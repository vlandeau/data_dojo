{
 "cells": [
  {
   "cell_type": "markdown",
   "metadata": {},
   "source": [
    "![title](house_prices.jpg)"
   ]
  },
  {
   "cell_type": "code",
   "execution_count": 1,
   "metadata": {
    "ExecuteTime": {
     "end_time": "2020-10-02T17:37:25.505403Z",
     "start_time": "2020-10-02T17:37:23.888912Z"
    }
   },
   "outputs": [],
   "source": [
    "import pandas as pd\n",
    "import numpy as np\n",
    "from sklearn.tree import DecisionTreeRegressor\n",
    "from sklearn.ensemble import RandomForestRegressor, RandomForestClassifier\n",
    "from sklearn.ensemble import GradientBoostingRegressor, GradientBoostingClassifier\n",
    "from sklearn.model_selection import train_test_split, GridSearchCV, KFold\n",
    "from sklearn.metrics import r2_score, mean_absolute_error\n",
    "from sklearn.impute import SimpleImputer\n",
    "from itertools import product\n",
    "import matplotlib.pyplot as plt\n",
    "import seaborn as sns\n",
    "%matplotlib inline"
   ]
  },
  {
   "cell_type": "markdown",
   "metadata": {},
   "source": [
    "# Data loading and cleaning"
   ]
  },
  {
   "cell_type": "markdown",
   "metadata": {},
   "source": [
    "## Data loading"
   ]
  },
  {
   "cell_type": "code",
   "execution_count": 2,
   "metadata": {
    "ExecuteTime": {
     "end_time": "2020-10-02T17:37:25.534415Z",
     "start_time": "2020-10-02T17:37:25.507468Z"
    },
    "scrolled": true
   },
   "outputs": [],
   "source": [
    "# Pandas est une librairie standard de manipulation haut niveau de la donnée: https://pandas.pydata.org/docs/user_guide/index.html\n",
    "df = pd.read_csv(\"house_sales_prices.csv\")"
   ]
  },
  {
   "cell_type": "code",
   "execution_count": 3,
   "metadata": {
    "ExecuteTime": {
     "end_time": "2020-10-02T17:37:25.561206Z",
     "start_time": "2020-10-02T17:37:25.536704Z"
    }
   },
   "outputs": [
    {
     "data": {
      "text/html": [
       "<div>\n",
       "<style scoped>\n",
       "    .dataframe tbody tr th:only-of-type {\n",
       "        vertical-align: middle;\n",
       "    }\n",
       "\n",
       "    .dataframe tbody tr th {\n",
       "        vertical-align: top;\n",
       "    }\n",
       "\n",
       "    .dataframe thead th {\n",
       "        text-align: right;\n",
       "    }\n",
       "</style>\n",
       "<table border=\"1\" class=\"dataframe\">\n",
       "  <thead>\n",
       "    <tr style=\"text-align: right;\">\n",
       "      <th></th>\n",
       "      <th>Id</th>\n",
       "      <th>MSSubClass</th>\n",
       "      <th>MSZoning</th>\n",
       "      <th>LotFrontage</th>\n",
       "      <th>LotArea</th>\n",
       "      <th>Street</th>\n",
       "      <th>Alley</th>\n",
       "      <th>LotShape</th>\n",
       "      <th>LandContour</th>\n",
       "      <th>Utilities</th>\n",
       "      <th>...</th>\n",
       "      <th>PoolArea</th>\n",
       "      <th>PoolQC</th>\n",
       "      <th>Fence</th>\n",
       "      <th>MiscFeature</th>\n",
       "      <th>MiscVal</th>\n",
       "      <th>MoSold</th>\n",
       "      <th>YrSold</th>\n",
       "      <th>SaleType</th>\n",
       "      <th>SaleCondition</th>\n",
       "      <th>SalePrice</th>\n",
       "    </tr>\n",
       "  </thead>\n",
       "  <tbody>\n",
       "    <tr>\n",
       "      <td>0</td>\n",
       "      <td>1</td>\n",
       "      <td>60</td>\n",
       "      <td>RL</td>\n",
       "      <td>65.0</td>\n",
       "      <td>8450</td>\n",
       "      <td>Pave</td>\n",
       "      <td>NaN</td>\n",
       "      <td>Reg</td>\n",
       "      <td>Lvl</td>\n",
       "      <td>AllPub</td>\n",
       "      <td>...</td>\n",
       "      <td>0</td>\n",
       "      <td>NaN</td>\n",
       "      <td>NaN</td>\n",
       "      <td>NaN</td>\n",
       "      <td>0</td>\n",
       "      <td>2</td>\n",
       "      <td>2008</td>\n",
       "      <td>WD</td>\n",
       "      <td>Normal</td>\n",
       "      <td>208500</td>\n",
       "    </tr>\n",
       "    <tr>\n",
       "      <td>1</td>\n",
       "      <td>2</td>\n",
       "      <td>20</td>\n",
       "      <td>RL</td>\n",
       "      <td>80.0</td>\n",
       "      <td>9600</td>\n",
       "      <td>Pave</td>\n",
       "      <td>NaN</td>\n",
       "      <td>Reg</td>\n",
       "      <td>Lvl</td>\n",
       "      <td>AllPub</td>\n",
       "      <td>...</td>\n",
       "      <td>0</td>\n",
       "      <td>NaN</td>\n",
       "      <td>NaN</td>\n",
       "      <td>NaN</td>\n",
       "      <td>0</td>\n",
       "      <td>5</td>\n",
       "      <td>2007</td>\n",
       "      <td>WD</td>\n",
       "      <td>Normal</td>\n",
       "      <td>181500</td>\n",
       "    </tr>\n",
       "    <tr>\n",
       "      <td>2</td>\n",
       "      <td>3</td>\n",
       "      <td>60</td>\n",
       "      <td>RL</td>\n",
       "      <td>68.0</td>\n",
       "      <td>11250</td>\n",
       "      <td>Pave</td>\n",
       "      <td>NaN</td>\n",
       "      <td>IR1</td>\n",
       "      <td>Lvl</td>\n",
       "      <td>AllPub</td>\n",
       "      <td>...</td>\n",
       "      <td>0</td>\n",
       "      <td>NaN</td>\n",
       "      <td>NaN</td>\n",
       "      <td>NaN</td>\n",
       "      <td>0</td>\n",
       "      <td>9</td>\n",
       "      <td>2008</td>\n",
       "      <td>WD</td>\n",
       "      <td>Normal</td>\n",
       "      <td>223500</td>\n",
       "    </tr>\n",
       "    <tr>\n",
       "      <td>3</td>\n",
       "      <td>4</td>\n",
       "      <td>70</td>\n",
       "      <td>RL</td>\n",
       "      <td>60.0</td>\n",
       "      <td>9550</td>\n",
       "      <td>Pave</td>\n",
       "      <td>NaN</td>\n",
       "      <td>IR1</td>\n",
       "      <td>Lvl</td>\n",
       "      <td>AllPub</td>\n",
       "      <td>...</td>\n",
       "      <td>0</td>\n",
       "      <td>NaN</td>\n",
       "      <td>NaN</td>\n",
       "      <td>NaN</td>\n",
       "      <td>0</td>\n",
       "      <td>2</td>\n",
       "      <td>2006</td>\n",
       "      <td>WD</td>\n",
       "      <td>Abnorml</td>\n",
       "      <td>140000</td>\n",
       "    </tr>\n",
       "    <tr>\n",
       "      <td>4</td>\n",
       "      <td>5</td>\n",
       "      <td>60</td>\n",
       "      <td>RL</td>\n",
       "      <td>84.0</td>\n",
       "      <td>14260</td>\n",
       "      <td>Pave</td>\n",
       "      <td>NaN</td>\n",
       "      <td>IR1</td>\n",
       "      <td>Lvl</td>\n",
       "      <td>AllPub</td>\n",
       "      <td>...</td>\n",
       "      <td>0</td>\n",
       "      <td>NaN</td>\n",
       "      <td>NaN</td>\n",
       "      <td>NaN</td>\n",
       "      <td>0</td>\n",
       "      <td>12</td>\n",
       "      <td>2008</td>\n",
       "      <td>WD</td>\n",
       "      <td>Normal</td>\n",
       "      <td>250000</td>\n",
       "    </tr>\n",
       "  </tbody>\n",
       "</table>\n",
       "<p>5 rows × 81 columns</p>\n",
       "</div>"
      ],
      "text/plain": [
       "   Id  MSSubClass MSZoning  LotFrontage  LotArea Street Alley LotShape  \\\n",
       "0   1          60       RL         65.0     8450   Pave   NaN      Reg   \n",
       "1   2          20       RL         80.0     9600   Pave   NaN      Reg   \n",
       "2   3          60       RL         68.0    11250   Pave   NaN      IR1   \n",
       "3   4          70       RL         60.0     9550   Pave   NaN      IR1   \n",
       "4   5          60       RL         84.0    14260   Pave   NaN      IR1   \n",
       "\n",
       "  LandContour Utilities  ... PoolArea PoolQC Fence MiscFeature MiscVal MoSold  \\\n",
       "0         Lvl    AllPub  ...        0    NaN   NaN         NaN       0      2   \n",
       "1         Lvl    AllPub  ...        0    NaN   NaN         NaN       0      5   \n",
       "2         Lvl    AllPub  ...        0    NaN   NaN         NaN       0      9   \n",
       "3         Lvl    AllPub  ...        0    NaN   NaN         NaN       0      2   \n",
       "4         Lvl    AllPub  ...        0    NaN   NaN         NaN       0     12   \n",
       "\n",
       "  YrSold  SaleType  SaleCondition  SalePrice  \n",
       "0   2008        WD         Normal     208500  \n",
       "1   2007        WD         Normal     181500  \n",
       "2   2008        WD         Normal     223500  \n",
       "3   2006        WD        Abnorml     140000  \n",
       "4   2008        WD         Normal     250000  \n",
       "\n",
       "[5 rows x 81 columns]"
      ]
     },
     "execution_count": 3,
     "metadata": {},
     "output_type": "execute_result"
    }
   ],
   "source": [
    "# L'objet de base en pandas est le dataframe, un tableau bidimensionnel de données\n",
    "df.head()"
   ]
  },
  {
   "cell_type": "code",
   "execution_count": 4,
   "metadata": {
    "ExecuteTime": {
     "end_time": "2020-10-02T17:37:25.656696Z",
     "start_time": "2020-10-02T17:37:25.563155Z"
    }
   },
   "outputs": [
    {
     "data": {
      "text/html": [
       "<div>\n",
       "<style scoped>\n",
       "    .dataframe tbody tr th:only-of-type {\n",
       "        vertical-align: middle;\n",
       "    }\n",
       "\n",
       "    .dataframe tbody tr th {\n",
       "        vertical-align: top;\n",
       "    }\n",
       "\n",
       "    .dataframe thead th {\n",
       "        text-align: right;\n",
       "    }\n",
       "</style>\n",
       "<table border=\"1\" class=\"dataframe\">\n",
       "  <thead>\n",
       "    <tr style=\"text-align: right;\">\n",
       "      <th></th>\n",
       "      <th>Id</th>\n",
       "      <th>MSSubClass</th>\n",
       "      <th>LotFrontage</th>\n",
       "      <th>LotArea</th>\n",
       "      <th>OverallQual</th>\n",
       "      <th>OverallCond</th>\n",
       "      <th>YearBuilt</th>\n",
       "      <th>YearRemodAdd</th>\n",
       "      <th>MasVnrArea</th>\n",
       "      <th>BsmtFinSF1</th>\n",
       "      <th>...</th>\n",
       "      <th>WoodDeckSF</th>\n",
       "      <th>OpenPorchSF</th>\n",
       "      <th>EnclosedPorch</th>\n",
       "      <th>3SsnPorch</th>\n",
       "      <th>ScreenPorch</th>\n",
       "      <th>PoolArea</th>\n",
       "      <th>MiscVal</th>\n",
       "      <th>MoSold</th>\n",
       "      <th>YrSold</th>\n",
       "      <th>SalePrice</th>\n",
       "    </tr>\n",
       "  </thead>\n",
       "  <tbody>\n",
       "    <tr>\n",
       "      <td>count</td>\n",
       "      <td>1460.000000</td>\n",
       "      <td>1460.000000</td>\n",
       "      <td>1201.000000</td>\n",
       "      <td>1460.000000</td>\n",
       "      <td>1460.000000</td>\n",
       "      <td>1460.000000</td>\n",
       "      <td>1460.000000</td>\n",
       "      <td>1460.000000</td>\n",
       "      <td>1452.000000</td>\n",
       "      <td>1460.000000</td>\n",
       "      <td>...</td>\n",
       "      <td>1460.000000</td>\n",
       "      <td>1460.000000</td>\n",
       "      <td>1460.000000</td>\n",
       "      <td>1460.000000</td>\n",
       "      <td>1460.000000</td>\n",
       "      <td>1460.000000</td>\n",
       "      <td>1460.000000</td>\n",
       "      <td>1460.000000</td>\n",
       "      <td>1460.000000</td>\n",
       "      <td>1460.000000</td>\n",
       "    </tr>\n",
       "    <tr>\n",
       "      <td>mean</td>\n",
       "      <td>730.500000</td>\n",
       "      <td>56.897260</td>\n",
       "      <td>70.049958</td>\n",
       "      <td>10516.828082</td>\n",
       "      <td>6.099315</td>\n",
       "      <td>5.575342</td>\n",
       "      <td>1971.267808</td>\n",
       "      <td>1984.865753</td>\n",
       "      <td>103.685262</td>\n",
       "      <td>443.639726</td>\n",
       "      <td>...</td>\n",
       "      <td>94.244521</td>\n",
       "      <td>46.660274</td>\n",
       "      <td>21.954110</td>\n",
       "      <td>3.409589</td>\n",
       "      <td>15.060959</td>\n",
       "      <td>2.758904</td>\n",
       "      <td>43.489041</td>\n",
       "      <td>6.321918</td>\n",
       "      <td>2007.815753</td>\n",
       "      <td>180921.195890</td>\n",
       "    </tr>\n",
       "    <tr>\n",
       "      <td>std</td>\n",
       "      <td>421.610009</td>\n",
       "      <td>42.300571</td>\n",
       "      <td>24.284752</td>\n",
       "      <td>9981.264932</td>\n",
       "      <td>1.382997</td>\n",
       "      <td>1.112799</td>\n",
       "      <td>30.202904</td>\n",
       "      <td>20.645407</td>\n",
       "      <td>181.066207</td>\n",
       "      <td>456.098091</td>\n",
       "      <td>...</td>\n",
       "      <td>125.338794</td>\n",
       "      <td>66.256028</td>\n",
       "      <td>61.119149</td>\n",
       "      <td>29.317331</td>\n",
       "      <td>55.757415</td>\n",
       "      <td>40.177307</td>\n",
       "      <td>496.123024</td>\n",
       "      <td>2.703626</td>\n",
       "      <td>1.328095</td>\n",
       "      <td>79442.502883</td>\n",
       "    </tr>\n",
       "    <tr>\n",
       "      <td>min</td>\n",
       "      <td>1.000000</td>\n",
       "      <td>20.000000</td>\n",
       "      <td>21.000000</td>\n",
       "      <td>1300.000000</td>\n",
       "      <td>1.000000</td>\n",
       "      <td>1.000000</td>\n",
       "      <td>1872.000000</td>\n",
       "      <td>1950.000000</td>\n",
       "      <td>0.000000</td>\n",
       "      <td>0.000000</td>\n",
       "      <td>...</td>\n",
       "      <td>0.000000</td>\n",
       "      <td>0.000000</td>\n",
       "      <td>0.000000</td>\n",
       "      <td>0.000000</td>\n",
       "      <td>0.000000</td>\n",
       "      <td>0.000000</td>\n",
       "      <td>0.000000</td>\n",
       "      <td>1.000000</td>\n",
       "      <td>2006.000000</td>\n",
       "      <td>34900.000000</td>\n",
       "    </tr>\n",
       "    <tr>\n",
       "      <td>25%</td>\n",
       "      <td>365.750000</td>\n",
       "      <td>20.000000</td>\n",
       "      <td>59.000000</td>\n",
       "      <td>7553.500000</td>\n",
       "      <td>5.000000</td>\n",
       "      <td>5.000000</td>\n",
       "      <td>1954.000000</td>\n",
       "      <td>1967.000000</td>\n",
       "      <td>0.000000</td>\n",
       "      <td>0.000000</td>\n",
       "      <td>...</td>\n",
       "      <td>0.000000</td>\n",
       "      <td>0.000000</td>\n",
       "      <td>0.000000</td>\n",
       "      <td>0.000000</td>\n",
       "      <td>0.000000</td>\n",
       "      <td>0.000000</td>\n",
       "      <td>0.000000</td>\n",
       "      <td>5.000000</td>\n",
       "      <td>2007.000000</td>\n",
       "      <td>129975.000000</td>\n",
       "    </tr>\n",
       "    <tr>\n",
       "      <td>50%</td>\n",
       "      <td>730.500000</td>\n",
       "      <td>50.000000</td>\n",
       "      <td>69.000000</td>\n",
       "      <td>9478.500000</td>\n",
       "      <td>6.000000</td>\n",
       "      <td>5.000000</td>\n",
       "      <td>1973.000000</td>\n",
       "      <td>1994.000000</td>\n",
       "      <td>0.000000</td>\n",
       "      <td>383.500000</td>\n",
       "      <td>...</td>\n",
       "      <td>0.000000</td>\n",
       "      <td>25.000000</td>\n",
       "      <td>0.000000</td>\n",
       "      <td>0.000000</td>\n",
       "      <td>0.000000</td>\n",
       "      <td>0.000000</td>\n",
       "      <td>0.000000</td>\n",
       "      <td>6.000000</td>\n",
       "      <td>2008.000000</td>\n",
       "      <td>163000.000000</td>\n",
       "    </tr>\n",
       "    <tr>\n",
       "      <td>75%</td>\n",
       "      <td>1095.250000</td>\n",
       "      <td>70.000000</td>\n",
       "      <td>80.000000</td>\n",
       "      <td>11601.500000</td>\n",
       "      <td>7.000000</td>\n",
       "      <td>6.000000</td>\n",
       "      <td>2000.000000</td>\n",
       "      <td>2004.000000</td>\n",
       "      <td>166.000000</td>\n",
       "      <td>712.250000</td>\n",
       "      <td>...</td>\n",
       "      <td>168.000000</td>\n",
       "      <td>68.000000</td>\n",
       "      <td>0.000000</td>\n",
       "      <td>0.000000</td>\n",
       "      <td>0.000000</td>\n",
       "      <td>0.000000</td>\n",
       "      <td>0.000000</td>\n",
       "      <td>8.000000</td>\n",
       "      <td>2009.000000</td>\n",
       "      <td>214000.000000</td>\n",
       "    </tr>\n",
       "    <tr>\n",
       "      <td>max</td>\n",
       "      <td>1460.000000</td>\n",
       "      <td>190.000000</td>\n",
       "      <td>313.000000</td>\n",
       "      <td>215245.000000</td>\n",
       "      <td>10.000000</td>\n",
       "      <td>9.000000</td>\n",
       "      <td>2010.000000</td>\n",
       "      <td>2010.000000</td>\n",
       "      <td>1600.000000</td>\n",
       "      <td>5644.000000</td>\n",
       "      <td>...</td>\n",
       "      <td>857.000000</td>\n",
       "      <td>547.000000</td>\n",
       "      <td>552.000000</td>\n",
       "      <td>508.000000</td>\n",
       "      <td>480.000000</td>\n",
       "      <td>738.000000</td>\n",
       "      <td>15500.000000</td>\n",
       "      <td>12.000000</td>\n",
       "      <td>2010.000000</td>\n",
       "      <td>755000.000000</td>\n",
       "    </tr>\n",
       "  </tbody>\n",
       "</table>\n",
       "<p>8 rows × 38 columns</p>\n",
       "</div>"
      ],
      "text/plain": [
       "                Id   MSSubClass  LotFrontage        LotArea  OverallQual  \\\n",
       "count  1460.000000  1460.000000  1201.000000    1460.000000  1460.000000   \n",
       "mean    730.500000    56.897260    70.049958   10516.828082     6.099315   \n",
       "std     421.610009    42.300571    24.284752    9981.264932     1.382997   \n",
       "min       1.000000    20.000000    21.000000    1300.000000     1.000000   \n",
       "25%     365.750000    20.000000    59.000000    7553.500000     5.000000   \n",
       "50%     730.500000    50.000000    69.000000    9478.500000     6.000000   \n",
       "75%    1095.250000    70.000000    80.000000   11601.500000     7.000000   \n",
       "max    1460.000000   190.000000   313.000000  215245.000000    10.000000   \n",
       "\n",
       "       OverallCond    YearBuilt  YearRemodAdd   MasVnrArea   BsmtFinSF1  ...  \\\n",
       "count  1460.000000  1460.000000   1460.000000  1452.000000  1460.000000  ...   \n",
       "mean      5.575342  1971.267808   1984.865753   103.685262   443.639726  ...   \n",
       "std       1.112799    30.202904     20.645407   181.066207   456.098091  ...   \n",
       "min       1.000000  1872.000000   1950.000000     0.000000     0.000000  ...   \n",
       "25%       5.000000  1954.000000   1967.000000     0.000000     0.000000  ...   \n",
       "50%       5.000000  1973.000000   1994.000000     0.000000   383.500000  ...   \n",
       "75%       6.000000  2000.000000   2004.000000   166.000000   712.250000  ...   \n",
       "max       9.000000  2010.000000   2010.000000  1600.000000  5644.000000  ...   \n",
       "\n",
       "        WoodDeckSF  OpenPorchSF  EnclosedPorch    3SsnPorch  ScreenPorch  \\\n",
       "count  1460.000000  1460.000000    1460.000000  1460.000000  1460.000000   \n",
       "mean     94.244521    46.660274      21.954110     3.409589    15.060959   \n",
       "std     125.338794    66.256028      61.119149    29.317331    55.757415   \n",
       "min       0.000000     0.000000       0.000000     0.000000     0.000000   \n",
       "25%       0.000000     0.000000       0.000000     0.000000     0.000000   \n",
       "50%       0.000000    25.000000       0.000000     0.000000     0.000000   \n",
       "75%     168.000000    68.000000       0.000000     0.000000     0.000000   \n",
       "max     857.000000   547.000000     552.000000   508.000000   480.000000   \n",
       "\n",
       "          PoolArea       MiscVal       MoSold       YrSold      SalePrice  \n",
       "count  1460.000000   1460.000000  1460.000000  1460.000000    1460.000000  \n",
       "mean      2.758904     43.489041     6.321918  2007.815753  180921.195890  \n",
       "std      40.177307    496.123024     2.703626     1.328095   79442.502883  \n",
       "min       0.000000      0.000000     1.000000  2006.000000   34900.000000  \n",
       "25%       0.000000      0.000000     5.000000  2007.000000  129975.000000  \n",
       "50%       0.000000      0.000000     6.000000  2008.000000  163000.000000  \n",
       "75%       0.000000      0.000000     8.000000  2009.000000  214000.000000  \n",
       "max     738.000000  15500.000000    12.000000  2010.000000  755000.000000  \n",
       "\n",
       "[8 rows x 38 columns]"
      ]
     },
     "execution_count": 4,
     "metadata": {},
     "output_type": "execute_result"
    }
   ],
   "source": [
    "df.describe()"
   ]
  },
  {
   "cell_type": "markdown",
   "metadata": {},
   "source": [
    "## Retrait valeurs manquantes"
   ]
  },
  {
   "cell_type": "code",
   "execution_count": 5,
   "metadata": {
    "ExecuteTime": {
     "end_time": "2020-10-02T17:37:25.667290Z",
     "start_time": "2020-10-02T17:37:25.658433Z"
    }
   },
   "outputs": [],
   "source": [
    "df_with_dropped_na = df.dropna(axis=1)"
   ]
  },
  {
   "cell_type": "code",
   "execution_count": 6,
   "metadata": {
    "ExecuteTime": {
     "end_time": "2020-10-02T17:37:25.688339Z",
     "start_time": "2020-10-02T17:37:25.668967Z"
    }
   },
   "outputs": [
    {
     "data": {
      "text/html": [
       "<div>\n",
       "<style scoped>\n",
       "    .dataframe tbody tr th:only-of-type {\n",
       "        vertical-align: middle;\n",
       "    }\n",
       "\n",
       "    .dataframe tbody tr th {\n",
       "        vertical-align: top;\n",
       "    }\n",
       "\n",
       "    .dataframe thead th {\n",
       "        text-align: right;\n",
       "    }\n",
       "</style>\n",
       "<table border=\"1\" class=\"dataframe\">\n",
       "  <thead>\n",
       "    <tr style=\"text-align: right;\">\n",
       "      <th></th>\n",
       "      <th>Id</th>\n",
       "      <th>MSSubClass</th>\n",
       "      <th>MSZoning</th>\n",
       "      <th>LotArea</th>\n",
       "      <th>Street</th>\n",
       "      <th>LotShape</th>\n",
       "      <th>LandContour</th>\n",
       "      <th>Utilities</th>\n",
       "      <th>LotConfig</th>\n",
       "      <th>LandSlope</th>\n",
       "      <th>...</th>\n",
       "      <th>EnclosedPorch</th>\n",
       "      <th>3SsnPorch</th>\n",
       "      <th>ScreenPorch</th>\n",
       "      <th>PoolArea</th>\n",
       "      <th>MiscVal</th>\n",
       "      <th>MoSold</th>\n",
       "      <th>YrSold</th>\n",
       "      <th>SaleType</th>\n",
       "      <th>SaleCondition</th>\n",
       "      <th>SalePrice</th>\n",
       "    </tr>\n",
       "  </thead>\n",
       "  <tbody>\n",
       "    <tr>\n",
       "      <td>0</td>\n",
       "      <td>1</td>\n",
       "      <td>60</td>\n",
       "      <td>RL</td>\n",
       "      <td>8450</td>\n",
       "      <td>Pave</td>\n",
       "      <td>Reg</td>\n",
       "      <td>Lvl</td>\n",
       "      <td>AllPub</td>\n",
       "      <td>Inside</td>\n",
       "      <td>Gtl</td>\n",
       "      <td>...</td>\n",
       "      <td>0</td>\n",
       "      <td>0</td>\n",
       "      <td>0</td>\n",
       "      <td>0</td>\n",
       "      <td>0</td>\n",
       "      <td>2</td>\n",
       "      <td>2008</td>\n",
       "      <td>WD</td>\n",
       "      <td>Normal</td>\n",
       "      <td>208500</td>\n",
       "    </tr>\n",
       "    <tr>\n",
       "      <td>1</td>\n",
       "      <td>2</td>\n",
       "      <td>20</td>\n",
       "      <td>RL</td>\n",
       "      <td>9600</td>\n",
       "      <td>Pave</td>\n",
       "      <td>Reg</td>\n",
       "      <td>Lvl</td>\n",
       "      <td>AllPub</td>\n",
       "      <td>FR2</td>\n",
       "      <td>Gtl</td>\n",
       "      <td>...</td>\n",
       "      <td>0</td>\n",
       "      <td>0</td>\n",
       "      <td>0</td>\n",
       "      <td>0</td>\n",
       "      <td>0</td>\n",
       "      <td>5</td>\n",
       "      <td>2007</td>\n",
       "      <td>WD</td>\n",
       "      <td>Normal</td>\n",
       "      <td>181500</td>\n",
       "    </tr>\n",
       "    <tr>\n",
       "      <td>2</td>\n",
       "      <td>3</td>\n",
       "      <td>60</td>\n",
       "      <td>RL</td>\n",
       "      <td>11250</td>\n",
       "      <td>Pave</td>\n",
       "      <td>IR1</td>\n",
       "      <td>Lvl</td>\n",
       "      <td>AllPub</td>\n",
       "      <td>Inside</td>\n",
       "      <td>Gtl</td>\n",
       "      <td>...</td>\n",
       "      <td>0</td>\n",
       "      <td>0</td>\n",
       "      <td>0</td>\n",
       "      <td>0</td>\n",
       "      <td>0</td>\n",
       "      <td>9</td>\n",
       "      <td>2008</td>\n",
       "      <td>WD</td>\n",
       "      <td>Normal</td>\n",
       "      <td>223500</td>\n",
       "    </tr>\n",
       "    <tr>\n",
       "      <td>3</td>\n",
       "      <td>4</td>\n",
       "      <td>70</td>\n",
       "      <td>RL</td>\n",
       "      <td>9550</td>\n",
       "      <td>Pave</td>\n",
       "      <td>IR1</td>\n",
       "      <td>Lvl</td>\n",
       "      <td>AllPub</td>\n",
       "      <td>Corner</td>\n",
       "      <td>Gtl</td>\n",
       "      <td>...</td>\n",
       "      <td>272</td>\n",
       "      <td>0</td>\n",
       "      <td>0</td>\n",
       "      <td>0</td>\n",
       "      <td>0</td>\n",
       "      <td>2</td>\n",
       "      <td>2006</td>\n",
       "      <td>WD</td>\n",
       "      <td>Abnorml</td>\n",
       "      <td>140000</td>\n",
       "    </tr>\n",
       "    <tr>\n",
       "      <td>4</td>\n",
       "      <td>5</td>\n",
       "      <td>60</td>\n",
       "      <td>RL</td>\n",
       "      <td>14260</td>\n",
       "      <td>Pave</td>\n",
       "      <td>IR1</td>\n",
       "      <td>Lvl</td>\n",
       "      <td>AllPub</td>\n",
       "      <td>FR2</td>\n",
       "      <td>Gtl</td>\n",
       "      <td>...</td>\n",
       "      <td>0</td>\n",
       "      <td>0</td>\n",
       "      <td>0</td>\n",
       "      <td>0</td>\n",
       "      <td>0</td>\n",
       "      <td>12</td>\n",
       "      <td>2008</td>\n",
       "      <td>WD</td>\n",
       "      <td>Normal</td>\n",
       "      <td>250000</td>\n",
       "    </tr>\n",
       "  </tbody>\n",
       "</table>\n",
       "<p>5 rows × 62 columns</p>\n",
       "</div>"
      ],
      "text/plain": [
       "   Id  MSSubClass MSZoning  LotArea Street LotShape LandContour Utilities  \\\n",
       "0   1          60       RL     8450   Pave      Reg         Lvl    AllPub   \n",
       "1   2          20       RL     9600   Pave      Reg         Lvl    AllPub   \n",
       "2   3          60       RL    11250   Pave      IR1         Lvl    AllPub   \n",
       "3   4          70       RL     9550   Pave      IR1         Lvl    AllPub   \n",
       "4   5          60       RL    14260   Pave      IR1         Lvl    AllPub   \n",
       "\n",
       "  LotConfig LandSlope  ... EnclosedPorch 3SsnPorch ScreenPorch PoolArea  \\\n",
       "0    Inside       Gtl  ...             0         0           0        0   \n",
       "1       FR2       Gtl  ...             0         0           0        0   \n",
       "2    Inside       Gtl  ...             0         0           0        0   \n",
       "3    Corner       Gtl  ...           272         0           0        0   \n",
       "4       FR2       Gtl  ...             0         0           0        0   \n",
       "\n",
       "  MiscVal  MoSold  YrSold  SaleType  SaleCondition SalePrice  \n",
       "0       0       2    2008        WD         Normal    208500  \n",
       "1       0       5    2007        WD         Normal    181500  \n",
       "2       0       9    2008        WD         Normal    223500  \n",
       "3       0       2    2006        WD        Abnorml    140000  \n",
       "4       0      12    2008        WD         Normal    250000  \n",
       "\n",
       "[5 rows x 62 columns]"
      ]
     },
     "execution_count": 6,
     "metadata": {},
     "output_type": "execute_result"
    }
   ],
   "source": [
    "df_with_dropped_na.head()"
   ]
  },
  {
   "cell_type": "markdown",
   "metadata": {},
   "source": [
    "## Conserver seulement les colonnes numériques"
   ]
  },
  {
   "cell_type": "code",
   "execution_count": 7,
   "metadata": {
    "ExecuteTime": {
     "end_time": "2020-10-02T17:37:25.695713Z",
     "start_time": "2020-10-02T17:37:25.690008Z"
    }
   },
   "outputs": [
    {
     "data": {
      "text/plain": [
       "Id               int64\n",
       "MSSubClass       int64\n",
       "MSZoning        object\n",
       "LotArea          int64\n",
       "Street          object\n",
       "LotShape        object\n",
       "LandContour     object\n",
       "Utilities       object\n",
       "LotConfig       object\n",
       "LandSlope       object\n",
       "Neighborhood    object\n",
       "Condition1      object\n",
       "Condition2      object\n",
       "BldgType        object\n",
       "HouseStyle      object\n",
       "OverallQual      int64\n",
       "OverallCond      int64\n",
       "YearBuilt        int64\n",
       "YearRemodAdd     int64\n",
       "RoofStyle       object\n",
       "dtype: object"
      ]
     },
     "execution_count": 7,
     "metadata": {},
     "output_type": "execute_result"
    }
   ],
   "source": [
    "df_with_dropped_na.dtypes.head(20)"
   ]
  },
  {
   "cell_type": "code",
   "execution_count": 8,
   "metadata": {
    "ExecuteTime": {
     "end_time": "2020-10-02T17:37:25.711273Z",
     "start_time": "2020-10-02T17:37:25.698291Z"
    }
   },
   "outputs": [],
   "source": [
    "numerics = ['int16', 'int32', 'int64', 'float16', 'float32', 'float64']\n",
    "\n",
    "df_numeric = df_with_dropped_na.select_dtypes(numerics)"
   ]
  },
  {
   "cell_type": "code",
   "execution_count": 9,
   "metadata": {
    "ExecuteTime": {
     "end_time": "2020-10-02T17:37:25.720186Z",
     "start_time": "2020-10-02T17:37:25.713701Z"
    }
   },
   "outputs": [
    {
     "data": {
      "text/plain": [
       "Id               int64\n",
       "MSSubClass       int64\n",
       "LotArea          int64\n",
       "OverallQual      int64\n",
       "OverallCond      int64\n",
       "YearBuilt        int64\n",
       "YearRemodAdd     int64\n",
       "BsmtFinSF1       int64\n",
       "BsmtFinSF2       int64\n",
       "BsmtUnfSF        int64\n",
       "TotalBsmtSF      int64\n",
       "1stFlrSF         int64\n",
       "2ndFlrSF         int64\n",
       "LowQualFinSF     int64\n",
       "GrLivArea        int64\n",
       "BsmtFullBath     int64\n",
       "BsmtHalfBath     int64\n",
       "FullBath         int64\n",
       "HalfBath         int64\n",
       "BedroomAbvGr     int64\n",
       "KitchenAbvGr     int64\n",
       "TotRmsAbvGrd     int64\n",
       "Fireplaces       int64\n",
       "GarageCars       int64\n",
       "GarageArea       int64\n",
       "WoodDeckSF       int64\n",
       "OpenPorchSF      int64\n",
       "EnclosedPorch    int64\n",
       "3SsnPorch        int64\n",
       "ScreenPorch      int64\n",
       "PoolArea         int64\n",
       "MiscVal          int64\n",
       "MoSold           int64\n",
       "YrSold           int64\n",
       "SalePrice        int64\n",
       "dtype: object"
      ]
     },
     "execution_count": 9,
     "metadata": {},
     "output_type": "execute_result"
    }
   ],
   "source": [
    "df_numeric.dtypes"
   ]
  },
  {
   "cell_type": "markdown",
   "metadata": {},
   "source": [
    "# Data visualization"
   ]
  },
  {
   "cell_type": "code",
   "execution_count": 10,
   "metadata": {
    "ExecuteTime": {
     "end_time": "2020-10-02T17:37:26.008863Z",
     "start_time": "2020-10-02T17:37:25.722049Z"
    },
    "scrolled": true
   },
   "outputs": [
    {
     "data": {
      "text/plain": [
       "<matplotlib.axes._subplots.AxesSubplot at 0x1a1f2ea110>"
      ]
     },
     "execution_count": 10,
     "metadata": {},
     "output_type": "execute_result"
    },
    {
     "data": {
      "image/png": "[encoded data removed]",
      "text/plain": [
       "<Figure size 432x288 with 1 Axes>"
      ]
     },
     "metadata": {
      "needs_background": "light"
     },
     "output_type": "display_data"
    }
   ],
   "source": [
    "# seaborn est une librairie haut-niveau de visualisation de données, \n",
    "# basée sur une librairie plus standard mais plus bas-niveau, matplotlib\n",
    "# https://seaborn.pydata.org/examples/index.html\n",
    "sns.distplot(df_numeric.SalePrice)"
   ]
  },
  {
   "cell_type": "code",
   "execution_count": 11,
   "metadata": {
    "ExecuteTime": {
     "end_time": "2020-10-02T17:37:26.021470Z",
     "start_time": "2020-10-02T17:37:26.010679Z"
    }
   },
   "outputs": [
    {
     "data": {
      "text/plain": [
       "SalePrice       1.000000\n",
       "OverallQual     0.790982\n",
       "GrLivArea       0.708624\n",
       "GarageCars      0.640409\n",
       "GarageArea      0.623431\n",
       "TotalBsmtSF     0.613581\n",
       "1stFlrSF        0.605852\n",
       "FullBath        0.560664\n",
       "TotRmsAbvGrd    0.533723\n",
       "YearBuilt       0.522897\n",
       "YearRemodAdd    0.507101\n",
       "Fireplaces      0.466929\n",
       "BsmtFinSF1      0.386420\n",
       "WoodDeckSF      0.324413\n",
       "2ndFlrSF        0.319334\n",
       "Name: SalePrice, dtype: float64"
      ]
     },
     "execution_count": 11,
     "metadata": {},
     "output_type": "execute_result"
    }
   ],
   "source": [
    "correlations = df_numeric.corr()\n",
    "most_correlated_features = correlations[\"SalePrice\"].sort_values(ascending=False)[:15]\n",
    "most_correlated_features"
   ]
  },
  {
   "cell_type": "code",
   "execution_count": 12,
   "metadata": {
    "ExecuteTime": {
     "end_time": "2020-10-02T17:37:26.325350Z",
     "start_time": "2020-10-02T17:37:26.023025Z"
    }
   },
   "outputs": [
    {
     "data": {
      "text/plain": [
       "<matplotlib.axes._subplots.AxesSubplot at 0x1a2124d690>"
      ]
     },
     "execution_count": 12,
     "metadata": {},
     "output_type": "execute_result"
    },
    {
     "data": {
      "image/png": "[encoded data removed]",
      "text/plain": [
       "<Figure size 432x288 with 2 Axes>"
      ]
     },
     "metadata": {
      "needs_background": "light"
     },
     "output_type": "display_data"
    }
   ],
   "source": [
    "correlations_most_correlated_features = df_numeric[most_correlated_features.index].corr()\n",
    "sns.heatmap(correlations_most_correlated_features, cmap=\"coolwarm\")"
   ]
  },
  {
   "cell_type": "code",
   "execution_count": 13,
   "metadata": {
    "ExecuteTime": {
     "end_time": "2020-10-02T17:37:26.680814Z",
     "start_time": "2020-10-02T17:37:26.327437Z"
    }
   },
   "outputs": [
    {
     "data": {
      "text/plain": [
       "<matplotlib.axes._subplots.AxesSubplot at 0x1a2154cb10>"
      ]
     },
     "execution_count": 13,
     "metadata": {},
     "output_type": "execute_result"
    },
    {
     "data": {
      "image/png": "[encoded data removed]",
      "text/plain": [
       "<Figure size 432x288 with 1 Axes>"
      ]
     },
     "metadata": {
      "needs_background": "light"
     },
     "output_type": "display_data"
    }
   ],
   "source": [
    "sns.boxplot(x=df_numeric.OverallQual, y=df_numeric.SalePrice)"
   ]
  },
  {
   "cell_type": "markdown",
   "metadata": {},
   "source": [
    "# Premier modèle"
   ]
  },
  {
   "cell_type": "markdown",
   "metadata": {},
   "source": [
    "## Cible et variables explicatives"
   ]
  },
  {
   "cell_type": "markdown",
   "metadata": {},
   "source": [
    "x et y sont des notations standard en data science, représentant respectivement les données qui nous permettent de faire une prédiction (variables explicatives ou features en anglais) et la valeur qu'on cherche à prédire (cible ou target)"
   ]
  },
  {
   "cell_type": "code",
   "execution_count": 14,
   "metadata": {
    "ExecuteTime": {
     "end_time": "2020-10-02T17:37:26.685783Z",
     "start_time": "2020-10-02T17:37:26.682655Z"
    }
   },
   "outputs": [],
   "source": [
    "target = \"SalePrice\"\n",
    "y = df_numeric[target]"
   ]
  },
  {
   "cell_type": "code",
   "execution_count": 15,
   "metadata": {
    "ExecuteTime": {
     "end_time": "2020-10-02T17:37:26.704482Z",
     "start_time": "2020-10-02T17:37:26.687751Z"
    }
   },
   "outputs": [
    {
     "data": {
      "text/html": [
       "<div>\n",
       "<style scoped>\n",
       "    .dataframe tbody tr th:only-of-type {\n",
       "        vertical-align: middle;\n",
       "    }\n",
       "\n",
       "    .dataframe tbody tr th {\n",
       "        vertical-align: top;\n",
       "    }\n",
       "\n",
       "    .dataframe thead th {\n",
       "        text-align: right;\n",
       "    }\n",
       "</style>\n",
       "<table border=\"1\" class=\"dataframe\">\n",
       "  <thead>\n",
       "    <tr style=\"text-align: right;\">\n",
       "      <th></th>\n",
       "      <th>Id</th>\n",
       "      <th>MSSubClass</th>\n",
       "      <th>LotArea</th>\n",
       "      <th>OverallQual</th>\n",
       "      <th>OverallCond</th>\n",
       "      <th>YearBuilt</th>\n",
       "      <th>YearRemodAdd</th>\n",
       "      <th>BsmtFinSF1</th>\n",
       "      <th>BsmtFinSF2</th>\n",
       "      <th>BsmtUnfSF</th>\n",
       "      <th>...</th>\n",
       "      <th>GarageArea</th>\n",
       "      <th>WoodDeckSF</th>\n",
       "      <th>OpenPorchSF</th>\n",
       "      <th>EnclosedPorch</th>\n",
       "      <th>3SsnPorch</th>\n",
       "      <th>ScreenPorch</th>\n",
       "      <th>PoolArea</th>\n",
       "      <th>MiscVal</th>\n",
       "      <th>MoSold</th>\n",
       "      <th>YrSold</th>\n",
       "    </tr>\n",
       "  </thead>\n",
       "  <tbody>\n",
       "    <tr>\n",
       "      <td>0</td>\n",
       "      <td>1</td>\n",
       "      <td>60</td>\n",
       "      <td>8450</td>\n",
       "      <td>7</td>\n",
       "      <td>5</td>\n",
       "      <td>2003</td>\n",
       "      <td>2003</td>\n",
       "      <td>706</td>\n",
       "      <td>0</td>\n",
       "      <td>150</td>\n",
       "      <td>...</td>\n",
       "      <td>548</td>\n",
       "      <td>0</td>\n",
       "      <td>61</td>\n",
       "      <td>0</td>\n",
       "      <td>0</td>\n",
       "      <td>0</td>\n",
       "      <td>0</td>\n",
       "      <td>0</td>\n",
       "      <td>2</td>\n",
       "      <td>2008</td>\n",
       "    </tr>\n",
       "    <tr>\n",
       "      <td>1</td>\n",
       "      <td>2</td>\n",
       "      <td>20</td>\n",
       "      <td>9600</td>\n",
       "      <td>6</td>\n",
       "      <td>8</td>\n",
       "      <td>1976</td>\n",
       "      <td>1976</td>\n",
       "      <td>978</td>\n",
       "      <td>0</td>\n",
       "      <td>284</td>\n",
       "      <td>...</td>\n",
       "      <td>460</td>\n",
       "      <td>298</td>\n",
       "      <td>0</td>\n",
       "      <td>0</td>\n",
       "      <td>0</td>\n",
       "      <td>0</td>\n",
       "      <td>0</td>\n",
       "      <td>0</td>\n",
       "      <td>5</td>\n",
       "      <td>2007</td>\n",
       "    </tr>\n",
       "    <tr>\n",
       "      <td>2</td>\n",
       "      <td>3</td>\n",
       "      <td>60</td>\n",
       "      <td>11250</td>\n",
       "      <td>7</td>\n",
       "      <td>5</td>\n",
       "      <td>2001</td>\n",
       "      <td>2002</td>\n",
       "      <td>486</td>\n",
       "      <td>0</td>\n",
       "      <td>434</td>\n",
       "      <td>...</td>\n",
       "      <td>608</td>\n",
       "      <td>0</td>\n",
       "      <td>42</td>\n",
       "      <td>0</td>\n",
       "      <td>0</td>\n",
       "      <td>0</td>\n",
       "      <td>0</td>\n",
       "      <td>0</td>\n",
       "      <td>9</td>\n",
       "      <td>2008</td>\n",
       "    </tr>\n",
       "    <tr>\n",
       "      <td>3</td>\n",
       "      <td>4</td>\n",
       "      <td>70</td>\n",
       "      <td>9550</td>\n",
       "      <td>7</td>\n",
       "      <td>5</td>\n",
       "      <td>1915</td>\n",
       "      <td>1970</td>\n",
       "      <td>216</td>\n",
       "      <td>0</td>\n",
       "      <td>540</td>\n",
       "      <td>...</td>\n",
       "      <td>642</td>\n",
       "      <td>0</td>\n",
       "      <td>35</td>\n",
       "      <td>272</td>\n",
       "      <td>0</td>\n",
       "      <td>0</td>\n",
       "      <td>0</td>\n",
       "      <td>0</td>\n",
       "      <td>2</td>\n",
       "      <td>2006</td>\n",
       "    </tr>\n",
       "    <tr>\n",
       "      <td>4</td>\n",
       "      <td>5</td>\n",
       "      <td>60</td>\n",
       "      <td>14260</td>\n",
       "      <td>8</td>\n",
       "      <td>5</td>\n",
       "      <td>2000</td>\n",
       "      <td>2000</td>\n",
       "      <td>655</td>\n",
       "      <td>0</td>\n",
       "      <td>490</td>\n",
       "      <td>...</td>\n",
       "      <td>836</td>\n",
       "      <td>192</td>\n",
       "      <td>84</td>\n",
       "      <td>0</td>\n",
       "      <td>0</td>\n",
       "      <td>0</td>\n",
       "      <td>0</td>\n",
       "      <td>0</td>\n",
       "      <td>12</td>\n",
       "      <td>2008</td>\n",
       "    </tr>\n",
       "  </tbody>\n",
       "</table>\n",
       "<p>5 rows × 34 columns</p>\n",
       "</div>"
      ],
      "text/plain": [
       "   Id  MSSubClass  LotArea  OverallQual  OverallCond  YearBuilt  YearRemodAdd  \\\n",
       "0   1          60     8450            7            5       2003          2003   \n",
       "1   2          20     9600            6            8       1976          1976   \n",
       "2   3          60    11250            7            5       2001          2002   \n",
       "3   4          70     9550            7            5       1915          1970   \n",
       "4   5          60    14260            8            5       2000          2000   \n",
       "\n",
       "   BsmtFinSF1  BsmtFinSF2  BsmtUnfSF  ...  GarageArea  WoodDeckSF  \\\n",
       "0         706           0        150  ...         548           0   \n",
       "1         978           0        284  ...         460         298   \n",
       "2         486           0        434  ...         608           0   \n",
       "3         216           0        540  ...         642           0   \n",
       "4         655           0        490  ...         836         192   \n",
       "\n",
       "   OpenPorchSF  EnclosedPorch  3SsnPorch  ScreenPorch  PoolArea  MiscVal  \\\n",
       "0           61              0          0            0         0        0   \n",
       "1            0              0          0            0         0        0   \n",
       "2           42              0          0            0         0        0   \n",
       "3           35            272          0            0         0        0   \n",
       "4           84              0          0            0         0        0   \n",
       "\n",
       "   MoSold  YrSold  \n",
       "0       2    2008  \n",
       "1       5    2007  \n",
       "2       9    2008  \n",
       "3       2    2006  \n",
       "4      12    2008  \n",
       "\n",
       "[5 rows x 34 columns]"
      ]
     },
     "execution_count": 15,
     "metadata": {},
     "output_type": "execute_result"
    }
   ],
   "source": [
    "x = df_numeric.drop(target, axis=1)\n",
    "features = x.columns.tolist()\n",
    "x.head()"
   ]
  },
  {
   "cell_type": "markdown",
   "metadata": {},
   "source": [
    "## Séparation des données d'entraînement et de test"
   ]
  },
  {
   "cell_type": "markdown",
   "metadata": {},
   "source": [
    "![title](training_test.png)"
   ]
  },
  {
   "cell_type": "markdown",
   "metadata": {},
   "source": [
    "scikit-learn (importé en tant que sklearn) est la principale librairie permettant de faire du machine learning en python : https://scikit-learn.org/stable/user_guide.html"
   ]
  },
  {
   "cell_type": "code",
   "execution_count": 16,
   "metadata": {
    "ExecuteTime": {
     "end_time": "2020-10-02T17:37:26.712800Z",
     "start_time": "2020-10-02T17:37:26.706227Z"
    }
   },
   "outputs": [],
   "source": [
    "test_size_ratio = 0.2\n",
    "random_state = 123 \n",
    "# variable à utiliser pour pouvoir reproduir la même répartition sur plusiurs exécutions\n",
    "\n",
    "x_train, x_test, y_train, y_test = train_test_split(x, y, test_size=0.2, \n",
    "                                                   random_state=123)"
   ]
  },
  {
   "cell_type": "code",
   "execution_count": 17,
   "metadata": {
    "ExecuteTime": {
     "end_time": "2020-10-02T17:37:26.718684Z",
     "start_time": "2020-10-02T17:37:26.714348Z"
    }
   },
   "outputs": [
    {
     "data": {
      "text/plain": [
       "((1168, 34), (292, 34))"
      ]
     },
     "execution_count": 17,
     "metadata": {},
     "output_type": "execute_result"
    }
   ],
   "source": [
    "x_train.shape, x_test.shape"
   ]
  },
  {
   "cell_type": "markdown",
   "metadata": {},
   "source": [
    "## Entraînement du modèle"
   ]
  },
  {
   "cell_type": "code",
   "execution_count": 18,
   "metadata": {
    "ExecuteTime": {
     "end_time": "2020-10-02T17:37:26.723263Z",
     "start_time": "2020-10-02T17:37:26.720372Z"
    }
   },
   "outputs": [],
   "source": [
    "tree_model = DecisionTreeRegressor(max_depth=8)"
   ]
  },
  {
   "cell_type": "code",
   "execution_count": 19,
   "metadata": {
    "ExecuteTime": {
     "end_time": "2020-10-02T17:37:26.741624Z",
     "start_time": "2020-10-02T17:37:26.725225Z"
    }
   },
   "outputs": [
    {
     "data": {
      "text/plain": [
       "DecisionTreeRegressor(criterion='mse', max_depth=8, max_features=None,\n",
       "                      max_leaf_nodes=None, min_impurity_decrease=0.0,\n",
       "                      min_impurity_split=None, min_samples_leaf=1,\n",
       "                      min_samples_split=2, min_weight_fraction_leaf=0.0,\n",
       "                      presort=False, random_state=None, splitter='best')"
      ]
     },
     "execution_count": 19,
     "metadata": {},
     "output_type": "execute_result"
    }
   ],
   "source": [
    "tree_model.fit(x_train, y_train)"
   ]
  },
  {
   "cell_type": "markdown",
   "metadata": {},
   "source": [
    "## Prédictions sur l'ensemble d'apprentissage"
   ]
  },
  {
   "cell_type": "code",
   "execution_count": 20,
   "metadata": {
    "ExecuteTime": {
     "end_time": "2020-10-02T17:37:26.748969Z",
     "start_time": "2020-10-02T17:37:26.743198Z"
    }
   },
   "outputs": [
    {
     "data": {
      "text/plain": [
       "11607.950874365642"
      ]
     },
     "execution_count": 20,
     "metadata": {},
     "output_type": "execute_result"
    }
   ],
   "source": [
    "predictions_train = tree_model.predict(x_train)\n",
    "mean_absolute_error(predictions_train, y_train)"
   ]
  },
  {
   "cell_type": "markdown",
   "metadata": {},
   "source": [
    "Le problème, c'est que la valeur d'erreur ci-dessus peut prendre des valeurs très différentes en fonction de la problématique. On préférera parfois utiliser des valeurs d'erreurs qui ont peuvent prendre des valeurs plus circonscrites, comme la fonction r2 utilisée ci-dessous."
   ]
  },
  {
   "cell_type": "markdown",
   "metadata": {},
   "source": [
    "![title](r2.png)"
   ]
  },
  {
   "cell_type": "code",
   "execution_count": 21,
   "metadata": {
    "ExecuteTime": {
     "end_time": "2020-10-02T17:37:26.756844Z",
     "start_time": "2020-10-02T17:37:26.750528Z"
    }
   },
   "outputs": [
    {
     "data": {
      "text/plain": [
       "0.957875059066847"
      ]
     },
     "execution_count": 21,
     "metadata": {},
     "output_type": "execute_result"
    }
   ],
   "source": [
    "r2_score(predictions_train, y_train)"
   ]
  },
  {
   "cell_type": "code",
   "execution_count": 22,
   "metadata": {
    "ExecuteTime": {
     "end_time": "2020-10-02T17:37:26.768540Z",
     "start_time": "2020-10-02T17:37:26.758936Z"
    }
   },
   "outputs": [
    {
     "data": {
      "text/html": [
       "<div>\n",
       "<style scoped>\n",
       "    .dataframe tbody tr th:only-of-type {\n",
       "        vertical-align: middle;\n",
       "    }\n",
       "\n",
       "    .dataframe tbody tr th {\n",
       "        vertical-align: top;\n",
       "    }\n",
       "\n",
       "    .dataframe thead th {\n",
       "        text-align: right;\n",
       "    }\n",
       "</style>\n",
       "<table border=\"1\" class=\"dataframe\">\n",
       "  <thead>\n",
       "    <tr style=\"text-align: right;\">\n",
       "      <th></th>\n",
       "      <th>predictions sur ensemble d'entrainement</th>\n",
       "      <th>valeurs ensemble d'entrainement</th>\n",
       "    </tr>\n",
       "  </thead>\n",
       "  <tbody>\n",
       "    <tr>\n",
       "      <td>318</td>\n",
       "      <td>300500.000000</td>\n",
       "      <td>260000</td>\n",
       "    </tr>\n",
       "    <tr>\n",
       "      <td>580</td>\n",
       "      <td>156859.096774</td>\n",
       "      <td>181900</td>\n",
       "    </tr>\n",
       "    <tr>\n",
       "      <td>961</td>\n",
       "      <td>253352.857143</td>\n",
       "      <td>272000</td>\n",
       "    </tr>\n",
       "    <tr>\n",
       "      <td>78</td>\n",
       "      <td>139863.923077</td>\n",
       "      <td>136500</td>\n",
       "    </tr>\n",
       "    <tr>\n",
       "      <td>5</td>\n",
       "      <td>139361.320755</td>\n",
       "      <td>143000</td>\n",
       "    </tr>\n",
       "    <tr>\n",
       "      <td>793</td>\n",
       "      <td>232428.571429</td>\n",
       "      <td>225000</td>\n",
       "    </tr>\n",
       "    <tr>\n",
       "      <td>1425</td>\n",
       "      <td>152995.833333</td>\n",
       "      <td>142000</td>\n",
       "    </tr>\n",
       "    <tr>\n",
       "      <td>1392</td>\n",
       "      <td>106025.258065</td>\n",
       "      <td>123000</td>\n",
       "    </tr>\n",
       "    <tr>\n",
       "      <td>585</td>\n",
       "      <td>406116.095238</td>\n",
       "      <td>369900</td>\n",
       "    </tr>\n",
       "    <tr>\n",
       "      <td>876</td>\n",
       "      <td>143824.719101</td>\n",
       "      <td>132250</td>\n",
       "    </tr>\n",
       "    <tr>\n",
       "      <td>1342</td>\n",
       "      <td>254794.615385</td>\n",
       "      <td>228500</td>\n",
       "    </tr>\n",
       "    <tr>\n",
       "      <td>85</td>\n",
       "      <td>308753.681818</td>\n",
       "      <td>260000</td>\n",
       "    </tr>\n",
       "    <tr>\n",
       "      <td>994</td>\n",
       "      <td>325480.000000</td>\n",
       "      <td>337500</td>\n",
       "    </tr>\n",
       "    <tr>\n",
       "      <td>853</td>\n",
       "      <td>174585.925373</td>\n",
       "      <td>158000</td>\n",
       "    </tr>\n",
       "    <tr>\n",
       "      <td>1109</td>\n",
       "      <td>271725.000000</td>\n",
       "      <td>280000</td>\n",
       "    </tr>\n",
       "  </tbody>\n",
       "</table>\n",
       "</div>"
      ],
      "text/plain": [
       "      predictions sur ensemble d'entrainement  valeurs ensemble d'entrainement\n",
       "318                             300500.000000                           260000\n",
       "580                             156859.096774                           181900\n",
       "961                             253352.857143                           272000\n",
       "78                              139863.923077                           136500\n",
       "5                               139361.320755                           143000\n",
       "793                             232428.571429                           225000\n",
       "1425                            152995.833333                           142000\n",
       "1392                            106025.258065                           123000\n",
       "585                             406116.095238                           369900\n",
       "876                             143824.719101                           132250\n",
       "1342                            254794.615385                           228500\n",
       "85                              308753.681818                           260000\n",
       "994                             325480.000000                           337500\n",
       "853                             174585.925373                           158000\n",
       "1109                            271725.000000                           280000"
      ]
     },
     "execution_count": 22,
     "metadata": {},
     "output_type": "execute_result"
    }
   ],
   "source": [
    "predictions_vs_realite_train = pd.DataFrame({\"predictions sur ensemble d'entrainement\": predictions_train,\n",
    "                                             \"valeurs ensemble d'entrainement\": y_train})\n",
    "predictions_vs_realite_train.head(15)"
   ]
  },
  {
   "cell_type": "code",
   "execution_count": 23,
   "metadata": {
    "ExecuteTime": {
     "end_time": "2020-10-02T17:37:26.975180Z",
     "start_time": "2020-10-02T17:37:26.773926Z"
    },
    "scrolled": true
   },
   "outputs": [
    {
     "data": {
      "text/plain": [
       "<matplotlib.axes._subplots.AxesSubplot at 0x1a21712190>"
      ]
     },
     "execution_count": 23,
     "metadata": {},
     "output_type": "execute_result"
    },
    {
     "data": {
      "image/png": "[encoded data removed]",
      "text/plain": [
       "<Figure size 432x288 with 1 Axes>"
      ]
     },
     "metadata": {
      "needs_background": "light"
     },
     "output_type": "display_data"
    }
   ],
   "source": [
    "predictions_vs_realite_train.plot.scatter(x=\"predictions sur ensemble d'entrainement\", y=\"valeurs ensemble d'entrainement\")"
   ]
  },
  {
   "cell_type": "markdown",
   "metadata": {},
   "source": [
    "## Predictions sur l'ensemble de test"
   ]
  },
  {
   "cell_type": "code",
   "execution_count": 24,
   "metadata": {
    "ExecuteTime": {
     "end_time": "2020-10-02T17:37:26.987441Z",
     "start_time": "2020-10-02T17:37:26.979050Z"
    }
   },
   "outputs": [
    {
     "data": {
      "text/plain": [
       "0.7061381735094221"
      ]
     },
     "execution_count": 24,
     "metadata": {},
     "output_type": "execute_result"
    }
   ],
   "source": [
    "predictions = tree_model.predict(x_test)\n",
    "r2_score(predictions, y_test)"
   ]
  },
  {
   "cell_type": "code",
   "execution_count": 25,
   "metadata": {
    "ExecuteTime": {
     "end_time": "2020-10-02T17:37:27.194201Z",
     "start_time": "2020-10-02T17:37:26.990261Z"
    }
   },
   "outputs": [
    {
     "data": {
      "text/plain": [
       "<matplotlib.axes._subplots.AxesSubplot at 0x1a2188d6d0>"
      ]
     },
     "execution_count": 25,
     "metadata": {},
     "output_type": "execute_result"
    },
    {
     "data": {
      "image/png": "[encoded data removed]",
      "text/plain": [
       "<Figure size 432x288 with 1 Axes>"
      ]
     },
     "metadata": {
      "needs_background": "light"
     },
     "output_type": "display_data"
    }
   ],
   "source": [
    "predictions_vs_realite = pd.DataFrame({\"predictions sur ensemble de test\": predictions,\n",
    "                                       \"valeurs ensemble de test\": y_test})\n",
    "predictions_vs_realite.plot.scatter(x=\"predictions sur ensemble de test\", y=\"valeurs ensemble de test\")"
   ]
  },
  {
   "cell_type": "markdown",
   "metadata": {},
   "source": [
    "# Recherche des meilleurs paramètres"
   ]
  },
  {
   "cell_type": "markdown",
   "metadata": {},
   "source": [
    "![titile](training_and_test.png)"
   ]
  },
  {
   "cell_type": "code",
   "execution_count": 26,
   "metadata": {
    "ExecuteTime": {
     "end_time": "2020-10-02T17:37:27.201612Z",
     "start_time": "2020-10-02T17:37:27.196303Z"
    }
   },
   "outputs": [],
   "source": [
    "x_training, x_val, y_training, y_val = train_test_split(x_train, y_train)"
   ]
  },
  {
   "cell_type": "code",
   "execution_count": 27,
   "metadata": {
    "ExecuteTime": {
     "end_time": "2020-10-02T17:37:27.218635Z",
     "start_time": "2020-10-02T17:37:27.203640Z"
    }
   },
   "outputs": [
    {
     "data": {
      "text/plain": [
       "[{'max_depth': None, 'min_samples_split': 2},\n",
       " {'max_depth': None, 'min_samples_split': 3},\n",
       " {'max_depth': None, 'min_samples_split': 4},\n",
       " {'max_depth': None, 'min_samples_split': 5},\n",
       " {'max_depth': None, 'min_samples_split': 6},\n",
       " {'max_depth': None, 'min_samples_split': 7},\n",
       " {'max_depth': None, 'min_samples_split': 8},\n",
       " {'max_depth': None, 'min_samples_split': 9},\n",
       " {'max_depth': None, 'min_samples_split': 10},\n",
       " {'max_depth': None, 'min_samples_split': 11},\n",
       " {'max_depth': None, 'min_samples_split': 12},\n",
       " {'max_depth': None, 'min_samples_split': 13},\n",
       " {'max_depth': None, 'min_samples_split': 14},\n",
       " {'max_depth': None, 'min_samples_split': 15},\n",
       " {'max_depth': None, 'min_samples_split': 16},\n",
       " {'max_depth': None, 'min_samples_split': 17},\n",
       " {'max_depth': None, 'min_samples_split': 18},\n",
       " {'max_depth': None, 'min_samples_split': 19},\n",
       " {'max_depth': 2, 'min_samples_split': 2},\n",
       " {'max_depth': 2, 'min_samples_split': 3},\n",
       " {'max_depth': 2, 'min_samples_split': 4},\n",
       " {'max_depth': 2, 'min_samples_split': 5},\n",
       " {'max_depth': 2, 'min_samples_split': 6},\n",
       " {'max_depth': 2, 'min_samples_split': 7},\n",
       " {'max_depth': 2, 'min_samples_split': 8},\n",
       " {'max_depth': 2, 'min_samples_split': 9},\n",
       " {'max_depth': 2, 'min_samples_split': 10},\n",
       " {'max_depth': 2, 'min_samples_split': 11},\n",
       " {'max_depth': 2, 'min_samples_split': 12},\n",
       " {'max_depth': 2, 'min_samples_split': 13},\n",
       " {'max_depth': 2, 'min_samples_split': 14},\n",
       " {'max_depth': 2, 'min_samples_split': 15},\n",
       " {'max_depth': 2, 'min_samples_split': 16},\n",
       " {'max_depth': 2, 'min_samples_split': 17},\n",
       " {'max_depth': 2, 'min_samples_split': 18},\n",
       " {'max_depth': 2, 'min_samples_split': 19},\n",
       " {'max_depth': 3, 'min_samples_split': 2},\n",
       " {'max_depth': 3, 'min_samples_split': 3},\n",
       " {'max_depth': 3, 'min_samples_split': 4},\n",
       " {'max_depth': 3, 'min_samples_split': 5},\n",
       " {'max_depth': 3, 'min_samples_split': 6},\n",
       " {'max_depth': 3, 'min_samples_split': 7},\n",
       " {'max_depth': 3, 'min_samples_split': 8},\n",
       " {'max_depth': 3, 'min_samples_split': 9},\n",
       " {'max_depth': 3, 'min_samples_split': 10},\n",
       " {'max_depth': 3, 'min_samples_split': 11},\n",
       " {'max_depth': 3, 'min_samples_split': 12},\n",
       " {'max_depth': 3, 'min_samples_split': 13},\n",
       " {'max_depth': 3, 'min_samples_split': 14},\n",
       " {'max_depth': 3, 'min_samples_split': 15},\n",
       " {'max_depth': 3, 'min_samples_split': 16},\n",
       " {'max_depth': 3, 'min_samples_split': 17},\n",
       " {'max_depth': 3, 'min_samples_split': 18},\n",
       " {'max_depth': 3, 'min_samples_split': 19},\n",
       " {'max_depth': 4, 'min_samples_split': 2},\n",
       " {'max_depth': 4, 'min_samples_split': 3},\n",
       " {'max_depth': 4, 'min_samples_split': 4},\n",
       " {'max_depth': 4, 'min_samples_split': 5},\n",
       " {'max_depth': 4, 'min_samples_split': 6},\n",
       " {'max_depth': 4, 'min_samples_split': 7},\n",
       " {'max_depth': 4, 'min_samples_split': 8},\n",
       " {'max_depth': 4, 'min_samples_split': 9},\n",
       " {'max_depth': 4, 'min_samples_split': 10},\n",
       " {'max_depth': 4, 'min_samples_split': 11},\n",
       " {'max_depth': 4, 'min_samples_split': 12},\n",
       " {'max_depth': 4, 'min_samples_split': 13},\n",
       " {'max_depth': 4, 'min_samples_split': 14},\n",
       " {'max_depth': 4, 'min_samples_split': 15},\n",
       " {'max_depth': 4, 'min_samples_split': 16},\n",
       " {'max_depth': 4, 'min_samples_split': 17},\n",
       " {'max_depth': 4, 'min_samples_split': 18},\n",
       " {'max_depth': 4, 'min_samples_split': 19},\n",
       " {'max_depth': 5, 'min_samples_split': 2},\n",
       " {'max_depth': 5, 'min_samples_split': 3},\n",
       " {'max_depth': 5, 'min_samples_split': 4},\n",
       " {'max_depth': 5, 'min_samples_split': 5},\n",
       " {'max_depth': 5, 'min_samples_split': 6},\n",
       " {'max_depth': 5, 'min_samples_split': 7},\n",
       " {'max_depth': 5, 'min_samples_split': 8},\n",
       " {'max_depth': 5, 'min_samples_split': 9},\n",
       " {'max_depth': 5, 'min_samples_split': 10},\n",
       " {'max_depth': 5, 'min_samples_split': 11},\n",
       " {'max_depth': 5, 'min_samples_split': 12},\n",
       " {'max_depth': 5, 'min_samples_split': 13},\n",
       " {'max_depth': 5, 'min_samples_split': 14},\n",
       " {'max_depth': 5, 'min_samples_split': 15},\n",
       " {'max_depth': 5, 'min_samples_split': 16},\n",
       " {'max_depth': 5, 'min_samples_split': 17},\n",
       " {'max_depth': 5, 'min_samples_split': 18},\n",
       " {'max_depth': 5, 'min_samples_split': 19},\n",
       " {'max_depth': 6, 'min_samples_split': 2},\n",
       " {'max_depth': 6, 'min_samples_split': 3},\n",
       " {'max_depth': 6, 'min_samples_split': 4},\n",
       " {'max_depth': 6, 'min_samples_split': 5},\n",
       " {'max_depth': 6, 'min_samples_split': 6},\n",
       " {'max_depth': 6, 'min_samples_split': 7},\n",
       " {'max_depth': 6, 'min_samples_split': 8},\n",
       " {'max_depth': 6, 'min_samples_split': 9},\n",
       " {'max_depth': 6, 'min_samples_split': 10},\n",
       " {'max_depth': 6, 'min_samples_split': 11},\n",
       " {'max_depth': 6, 'min_samples_split': 12},\n",
       " {'max_depth': 6, 'min_samples_split': 13},\n",
       " {'max_depth': 6, 'min_samples_split': 14},\n",
       " {'max_depth': 6, 'min_samples_split': 15},\n",
       " {'max_depth': 6, 'min_samples_split': 16},\n",
       " {'max_depth': 6, 'min_samples_split': 17},\n",
       " {'max_depth': 6, 'min_samples_split': 18},\n",
       " {'max_depth': 6, 'min_samples_split': 19},\n",
       " {'max_depth': 7, 'min_samples_split': 2},\n",
       " {'max_depth': 7, 'min_samples_split': 3},\n",
       " {'max_depth': 7, 'min_samples_split': 4},\n",
       " {'max_depth': 7, 'min_samples_split': 5},\n",
       " {'max_depth': 7, 'min_samples_split': 6},\n",
       " {'max_depth': 7, 'min_samples_split': 7},\n",
       " {'max_depth': 7, 'min_samples_split': 8},\n",
       " {'max_depth': 7, 'min_samples_split': 9},\n",
       " {'max_depth': 7, 'min_samples_split': 10},\n",
       " {'max_depth': 7, 'min_samples_split': 11},\n",
       " {'max_depth': 7, 'min_samples_split': 12},\n",
       " {'max_depth': 7, 'min_samples_split': 13},\n",
       " {'max_depth': 7, 'min_samples_split': 14},\n",
       " {'max_depth': 7, 'min_samples_split': 15},\n",
       " {'max_depth': 7, 'min_samples_split': 16},\n",
       " {'max_depth': 7, 'min_samples_split': 17},\n",
       " {'max_depth': 7, 'min_samples_split': 18},\n",
       " {'max_depth': 7, 'min_samples_split': 19},\n",
       " {'max_depth': 8, 'min_samples_split': 2},\n",
       " {'max_depth': 8, 'min_samples_split': 3},\n",
       " {'max_depth': 8, 'min_samples_split': 4},\n",
       " {'max_depth': 8, 'min_samples_split': 5},\n",
       " {'max_depth': 8, 'min_samples_split': 6},\n",
       " {'max_depth': 8, 'min_samples_split': 7},\n",
       " {'max_depth': 8, 'min_samples_split': 8},\n",
       " {'max_depth': 8, 'min_samples_split': 9},\n",
       " {'max_depth': 8, 'min_samples_split': 10},\n",
       " {'max_depth': 8, 'min_samples_split': 11},\n",
       " {'max_depth': 8, 'min_samples_split': 12},\n",
       " {'max_depth': 8, 'min_samples_split': 13},\n",
       " {'max_depth': 8, 'min_samples_split': 14},\n",
       " {'max_depth': 8, 'min_samples_split': 15},\n",
       " {'max_depth': 8, 'min_samples_split': 16},\n",
       " {'max_depth': 8, 'min_samples_split': 17},\n",
       " {'max_depth': 8, 'min_samples_split': 18},\n",
       " {'max_depth': 8, 'min_samples_split': 19},\n",
       " {'max_depth': 9, 'min_samples_split': 2},\n",
       " {'max_depth': 9, 'min_samples_split': 3},\n",
       " {'max_depth': 9, 'min_samples_split': 4},\n",
       " {'max_depth': 9, 'min_samples_split': 5},\n",
       " {'max_depth': 9, 'min_samples_split': 6},\n",
       " {'max_depth': 9, 'min_samples_split': 7},\n",
       " {'max_depth': 9, 'min_samples_split': 8},\n",
       " {'max_depth': 9, 'min_samples_split': 9},\n",
       " {'max_depth': 9, 'min_samples_split': 10},\n",
       " {'max_depth': 9, 'min_samples_split': 11},\n",
       " {'max_depth': 9, 'min_samples_split': 12},\n",
       " {'max_depth': 9, 'min_samples_split': 13},\n",
       " {'max_depth': 9, 'min_samples_split': 14},\n",
       " {'max_depth': 9, 'min_samples_split': 15},\n",
       " {'max_depth': 9, 'min_samples_split': 16},\n",
       " {'max_depth': 9, 'min_samples_split': 17},\n",
       " {'max_depth': 9, 'min_samples_split': 18},\n",
       " {'max_depth': 9, 'min_samples_split': 19},\n",
       " {'max_depth': 10, 'min_samples_split': 2},\n",
       " {'max_depth': 10, 'min_samples_split': 3},\n",
       " {'max_depth': 10, 'min_samples_split': 4},\n",
       " {'max_depth': 10, 'min_samples_split': 5},\n",
       " {'max_depth': 10, 'min_samples_split': 6},\n",
       " {'max_depth': 10, 'min_samples_split': 7},\n",
       " {'max_depth': 10, 'min_samples_split': 8},\n",
       " {'max_depth': 10, 'min_samples_split': 9},\n",
       " {'max_depth': 10, 'min_samples_split': 10},\n",
       " {'max_depth': 10, 'min_samples_split': 11},\n",
       " {'max_depth': 10, 'min_samples_split': 12},\n",
       " {'max_depth': 10, 'min_samples_split': 13},\n",
       " {'max_depth': 10, 'min_samples_split': 14},\n",
       " {'max_depth': 10, 'min_samples_split': 15},\n",
       " {'max_depth': 10, 'min_samples_split': 16},\n",
       " {'max_depth': 10, 'min_samples_split': 17},\n",
       " {'max_depth': 10, 'min_samples_split': 18},\n",
       " {'max_depth': 10, 'min_samples_split': 19},\n",
       " {'max_depth': 11, 'min_samples_split': 2},\n",
       " {'max_depth': 11, 'min_samples_split': 3},\n",
       " {'max_depth': 11, 'min_samples_split': 4},\n",
       " {'max_depth': 11, 'min_samples_split': 5},\n",
       " {'max_depth': 11, 'min_samples_split': 6},\n",
       " {'max_depth': 11, 'min_samples_split': 7},\n",
       " {'max_depth': 11, 'min_samples_split': 8},\n",
       " {'max_depth': 11, 'min_samples_split': 9},\n",
       " {'max_depth': 11, 'min_samples_split': 10},\n",
       " {'max_depth': 11, 'min_samples_split': 11},\n",
       " {'max_depth': 11, 'min_samples_split': 12},\n",
       " {'max_depth': 11, 'min_samples_split': 13},\n",
       " {'max_depth': 11, 'min_samples_split': 14},\n",
       " {'max_depth': 11, 'min_samples_split': 15},\n",
       " {'max_depth': 11, 'min_samples_split': 16},\n",
       " {'max_depth': 11, 'min_samples_split': 17},\n",
       " {'max_depth': 11, 'min_samples_split': 18},\n",
       " {'max_depth': 11, 'min_samples_split': 19}]"
      ]
     },
     "execution_count": 27,
     "metadata": {},
     "output_type": "execute_result"
    }
   ],
   "source": [
    "hyperparameters_grid = {\"max_depth\": [None] + list(range(2, 12)), \n",
    "                        \"min_samples_split\": list(range(2, 20))}\n",
    "\n",
    "# Créons la liste de toutes les combinaisons possibles d'hyperparamètres\n",
    "hyperparameters_combinations_tuple_list = product(*(hyperparameters_grid[key] \n",
    "                                           for key in hyperparameters_grid))\n",
    "hyperparameters_combinations_dict_list = [{\"max_depth\": l[0], \n",
    "                                 \"min_samples_split\": l[1]} for l in\n",
    "                                hyperparameters_combinations_tuple_list]\n",
    "hyperparameters_combinations_dict_list"
   ]
  },
  {
   "cell_type": "code",
   "execution_count": 28,
   "metadata": {
    "ExecuteTime": {
     "end_time": "2020-10-02T17:37:27.224073Z",
     "start_time": "2020-10-02T17:37:27.220467Z"
    }
   },
   "outputs": [],
   "source": [
    "def get_score_with_a_decison_tree(hyperparameters):\n",
    "    tree = DecisionTreeRegressor(**hyperparameters)\n",
    "    tree.fit(x_training, y_training)\n",
    "    predictions = tree.predict(x_val)\n",
    "    score = r2_score(predictions, y_val)\n",
    "    return score"
   ]
  },
  {
   "cell_type": "code",
   "execution_count": 29,
   "metadata": {
    "ExecuteTime": {
     "end_time": "2020-10-02T17:37:28.724786Z",
     "start_time": "2020-10-02T17:37:27.226159Z"
    }
   },
   "outputs": [],
   "source": [
    "# Pour chaque combinaison d'hyperparamètres, entraînons un arbre\n",
    "# et calculons son score sur l'ensemble de validation\n",
    "scores = [get_score_with_a_decison_tree(hyperparameter_combination) \n",
    "          for hyperparameter_combination in hyperparameters_combinations_dict_list]"
   ]
  },
  {
   "cell_type": "code",
   "execution_count": 30,
   "metadata": {
    "ExecuteTime": {
     "end_time": "2020-10-02T17:37:28.746246Z",
     "start_time": "2020-10-02T17:37:28.726850Z"
    },
    "scrolled": true
   },
   "outputs": [
    {
     "name": "stdout",
     "output_type": "stream",
     "text": [
      "Score du meilleur modèle: 0.7964860127002701\n",
      "Score du meilleur modèle sur l'ensemble de test: 0.7542266632505221\n",
      "Meilleurs hyperparamètres: {'max_depth': None, 'min_samples_split': 12}\n"
     ]
    }
   ],
   "source": [
    "max_score = max(scores)\n",
    "print(\"Score du meilleur modèle: %s\" % max_score)\n",
    "best_score_index = scores.index(max_score)\n",
    "best_hyperparameters = hyperparameters_combinations_dict_list[best_score_index]\n",
    "best_tree = DecisionTreeRegressor(**best_hyperparameters).fit(x_train, y_train)\n",
    "print(\"Score du meilleur modèle sur l'ensemble de test: %s\" % best_tree.score(x_test, y_test))\n",
    "\n",
    "print(\"Meilleurs hyperparamètres: %s\" % best_hyperparameters)"
   ]
  },
  {
   "cell_type": "code",
   "execution_count": 31,
   "metadata": {
    "ExecuteTime": {
     "end_time": "2020-10-02T17:37:28.930989Z",
     "start_time": "2020-10-02T17:37:28.747954Z"
    }
   },
   "outputs": [
    {
     "data": {
      "text/plain": [
       "<matplotlib.axes._subplots.AxesSubplot at 0x1a219ee290>"
      ]
     },
     "execution_count": 31,
     "metadata": {},
     "output_type": "execute_result"
    },
    {
     "data": {
      "image/png": "[encoded data removed]",
      "text/plain": [
       "<Figure size 432x288 with 1 Axes>"
      ]
     },
     "metadata": {
      "needs_background": "light"
     },
     "output_type": "display_data"
    }
   ],
   "source": [
    "predictions_best_tree_vs_realite = pd.DataFrame({\"predictions sur ensemble de test\": best_tree.predict(x_test),\n",
    "                                       \"valeurs ensemble de test\": y_test})\n",
    "predictions_best_tree_vs_realite.plot.scatter(x=\"predictions sur ensemble de test\", y=\"valeurs ensemble de test\")"
   ]
  },
  {
   "cell_type": "markdown",
   "metadata": {},
   "source": [
    "# Validation croisée"
   ]
  },
  {
   "cell_type": "markdown",
   "metadata": {},
   "source": [
    "![title](kfolds.jpg)"
   ]
  },
  {
   "cell_type": "code",
   "execution_count": 32,
   "metadata": {
    "ExecuteTime": {
     "end_time": "2020-10-02T17:37:28.938595Z",
     "start_time": "2020-10-02T17:37:28.932801Z"
    }
   },
   "outputs": [],
   "source": [
    "def get_cross_val_score(hyperparameters):\n",
    "    scores = []\n",
    "    x_train_matrix = x_train.values\n",
    "    y_train_matrix = y_train.values\n",
    "    # Créons six sous-ensembles (folds) de taille égale\n",
    "    kfold = KFold(n_splits=6)\n",
    "    # Et récupérons tous les ensembles d'entraînement et de validation possibles\n",
    "    for train_indices, val_indices in kfold.split(x_train_matrix):\n",
    "        x_train_k = x_train_matrix[train_indices, :]\n",
    "        y_train_k = y_train_matrix[train_indices]\n",
    "        x_val_k = x_train_matrix[val_indices, :]\n",
    "        y_val_k = y_train_matrix[val_indices]\n",
    "        # Pour chacun de ces sous-ensembles, entraînons un modèle et récupérons son score\n",
    "        tree = DecisionTreeRegressor(**hyperparameters)\n",
    "        tree.fit(x_train_k, y_train_k)\n",
    "        predictions = tree.predict(x_val_k)\n",
    "        score = r2_score(predictions, y_val_k)\n",
    "        scores.append(score)\n",
    "    # Renvoyons la moyenne des scores\n",
    "    return np.mean(scores)"
   ]
  },
  {
   "cell_type": "code",
   "execution_count": 33,
   "metadata": {
    "ExecuteTime": {
     "end_time": "2020-10-02T17:37:29.002722Z",
     "start_time": "2020-10-02T17:37:28.940836Z"
    }
   },
   "outputs": [
    {
     "data": {
      "text/plain": [
       "0.6104269594247861"
      ]
     },
     "execution_count": 33,
     "metadata": {},
     "output_type": "execute_result"
    }
   ],
   "source": [
    "get_cross_val_score(best_hyperparameters)"
   ]
  },
  {
   "cell_type": "code",
   "execution_count": 34,
   "metadata": {
    "ExecuteTime": {
     "end_time": "2020-10-02T17:37:37.231683Z",
     "start_time": "2020-10-02T17:37:29.004413Z"
    }
   },
   "outputs": [],
   "source": [
    "# Recalculons les scores de chacune des combinaisons de paramètres\n",
    "cv_scores = [get_cross_val_score(hyperparameter_combination)\n",
    "             for hyperparameter_combination in hyperparameters_combinations_dict_list]"
   ]
  },
  {
   "cell_type": "code",
   "execution_count": 35,
   "metadata": {
    "ExecuteTime": {
     "end_time": "2020-10-02T17:37:37.252364Z",
     "start_time": "2020-10-02T17:37:37.233363Z"
    }
   },
   "outputs": [
    {
     "name": "stdout",
     "output_type": "stream",
     "text": [
      "Score du meilleur modèle: 0.7401622034575365\n",
      "Score du meilleur modèle sur l'ensemble de test: 0.7689813341904049\n",
      "Meilleurs paramètres: {'max_depth': 11, 'min_samples_split': 13}\n"
     ]
    }
   ],
   "source": [
    "max_score_cv = max(cv_scores)\n",
    "print(\"Score du meilleur modèle: %s\" % max_score_cv)\n",
    "best_score_index_cv = cv_scores.index(max_score_cv)\n",
    "best_hyperparameters_cv = hyperparameters_combinations_dict_list[best_score_index_cv]\n",
    "best_tree_cv = DecisionTreeRegressor(**best_hyperparameters_cv).fit(x_train, y_train)\n",
    "print(\"Score du meilleur modèle sur l'ensemble de test: %s\" % best_tree_cv.score(x_test, y_test))\n",
    "\n",
    "print(\"Meilleurs paramètres: %s\" % best_hyperparameters_cv)"
   ]
  },
  {
   "cell_type": "code",
   "execution_count": 36,
   "metadata": {
    "ExecuteTime": {
     "end_time": "2020-10-02T17:37:37.465386Z",
     "start_time": "2020-10-02T17:37:37.253986Z"
    }
   },
   "outputs": [
    {
     "data": {
      "text/plain": [
       "<matplotlib.axes._subplots.AxesSubplot at 0x1a21b2d3d0>"
      ]
     },
     "execution_count": 36,
     "metadata": {},
     "output_type": "execute_result"
    },
    {
     "data": {
      "image/png": "[encoded data removed]",
      "text/plain": [
       "<Figure size 432x288 with 1 Axes>"
      ]
     },
     "metadata": {
      "needs_background": "light"
     },
     "output_type": "display_data"
    }
   ],
   "source": [
    "predictions_vs_realite_cv = pd.DataFrame({\"predictions sur ensemble de test\": best_tree.predict(x_test),\n",
    "                                       \"valeurs ensemble de test\": y_test})\n",
    "predictions_best_tree_vs_realite.plot.scatter(x=\"predictions sur ensemble de test\", y=\"valeurs ensemble de test\")"
   ]
  },
  {
   "cell_type": "markdown",
   "metadata": {},
   "source": [
    "# Compromis biais variance"
   ]
  },
  {
   "cell_type": "markdown",
   "metadata": {},
   "source": [
    "![title](bootstrap.png)"
   ]
  },
  {
   "cell_type": "code",
   "execution_count": 37,
   "metadata": {
    "ExecuteTime": {
     "end_time": "2020-10-02T17:37:37.520391Z",
     "start_time": "2020-10-02T17:37:37.467156Z"
    }
   },
   "outputs": [],
   "source": [
    "n_samples = 200\n",
    "sample_size = 1000\n",
    "pool_size = x_train.shape[0]\n",
    "\n",
    "def get_bootstrap_sample(pool_size=pool_size, sample_size=sample_size):\n",
    "    return np.random.choice(range(pool_size), size=sample_size, replace=True)\n",
    "\n",
    "# Créons une liste d'indices d'échantillons \"bootstrap\" sur l'ensemble d'entraînement\n",
    "samples = [get_bootstrap_sample() for _ in range(n_samples)]"
   ]
  },
  {
   "cell_type": "code",
   "execution_count": 38,
   "metadata": {
    "ExecuteTime": {
     "end_time": "2020-10-02T17:37:47.910745Z",
     "start_time": "2020-10-02T17:37:37.522183Z"
    }
   },
   "outputs": [],
   "source": [
    "def train_individual_tree(sample, max_depth=2):\n",
    "    x_train_sample = x_train.values[sample, :]\n",
    "    y_train_sample = y_train.values[sample]\n",
    "    tree_sample = DecisionTreeRegressor(max_depth=max_depth)\n",
    "    return tree_sample.fit(x_train_sample, y_train_sample)\n",
    "\n",
    "mean_bias, mean_variance = [], []\n",
    "scores_one_tree = []\n",
    "max_depths = range(1, 25, 4)\n",
    "# Pour différentes valeurs de profondeur possibles...\n",
    "for depth in max_depths:\n",
    "    # On va entraîner des arbres de décision, un par échantillon bootstrap\n",
    "    tree_samples = [train_individual_tree(sample, depth) for sample in samples]\n",
    "    predictions_tree_samples = [tree.predict(x_test) for tree in tree_samples]\n",
    "    # On calcule les taux d'erreur de chacun des arbres...\n",
    "    error_rates = np.concatenate([((x - y_test) / y_test).values.reshape(len(y_test), 1) \n",
    "                                for x in predictions_tree_samples],\n",
    "                              axis=1)\n",
    "    # Et on en déduit un taux d'erreur moyen, ou bias\n",
    "    mean_bias.append(np.mean(np.abs(np.mean(error_rates, axis=1))))\n",
    "    # et la variance des erreurs\n",
    "    mean_variance.append(np.mean(np.std(error_rates, axis=1)))\n",
    "    \n",
    "    one_tree = DecisionTreeRegressor(max_depth=depth).fit(x_train, y_train)\n",
    "    scores_one_tree.append(one_tree.score(x_test, y_test))"
   ]
  },
  {
   "cell_type": "code",
   "execution_count": 39,
   "metadata": {
    "ExecuteTime": {
     "end_time": "2020-10-02T17:37:48.099547Z",
     "start_time": "2020-10-02T17:37:47.912555Z"
    }
   },
   "outputs": [
    {
     "data": {
      "text/plain": [
       "Text(0.5, 1.0, 'Évolution du biais en fonction de la profondeur des arbres')"
      ]
     },
     "execution_count": 39,
     "metadata": {},
     "output_type": "execute_result"
    },
    {
     "data": {
      "image/png": "[encoded data removed]",
      "text/plain": [
       "<Figure size 432x288 with 1 Axes>"
      ]
     },
     "metadata": {
      "needs_background": "light"
     },
     "output_type": "display_data"
    }
   ],
   "source": [
    "plt.plot(max_depths, mean_bias)\n",
    "plt.title(u\"Évolution du biais en fonction de la profondeur des arbres\")"
   ]
  },
  {
   "cell_type": "code",
   "execution_count": 40,
   "metadata": {
    "ExecuteTime": {
     "end_time": "2020-10-02T17:37:48.288954Z",
     "start_time": "2020-10-02T17:37:48.101354Z"
    },
    "scrolled": true
   },
   "outputs": [
    {
     "data": {
      "text/plain": [
       "Text(0.5, 1.0, 'Évolution de la variance en fonction de la profondeur des arbres')"
      ]
     },
     "execution_count": 40,
     "metadata": {},
     "output_type": "execute_result"
    },
    {
     "data": {
      "image/png": "[encoded data removed]",
      "text/plain": [
       "<Figure size 432x288 with 1 Axes>"
      ]
     },
     "metadata": {
      "needs_background": "light"
     },
     "output_type": "display_data"
    }
   ],
   "source": [
    "plt.plot(max_depths, mean_variance)\n",
    "plt.title(u\"Évolution de la variance en fonction de la profondeur des arbres\")"
   ]
  },
  {
   "cell_type": "code",
   "execution_count": 41,
   "metadata": {
    "ExecuteTime": {
     "end_time": "2020-10-02T17:37:48.487022Z",
     "start_time": "2020-10-02T17:37:48.291398Z"
    }
   },
   "outputs": [
    {
     "data": {
      "text/plain": [
       "Text(0.5, 1.0, \"Évolution du score d'un seul arbre en fonction de la profondeur\")"
      ]
     },
     "execution_count": 41,
     "metadata": {},
     "output_type": "execute_result"
    },
    {
     "data": {
      "image/png": "[encoded data removed]",
      "text/plain": [
       "<Figure size 432x288 with 1 Axes>"
      ]
     },
     "metadata": {
      "needs_background": "light"
     },
     "output_type": "display_data"
    }
   ],
   "source": [
    "plt.plot(max_depths, scores_one_tree)\n",
    "plt.title(u\"Évolution du score d'un seul arbre en fonction de la profondeur\")"
   ]
  },
  {
   "cell_type": "markdown",
   "metadata": {},
   "source": [
    "![title](bias_variance.png)"
   ]
  },
  {
   "cell_type": "markdown",
   "metadata": {},
   "source": [
    "# Aggrégation bootstrap (bagging)"
   ]
  },
  {
   "cell_type": "code",
   "execution_count": 42,
   "metadata": {
    "ExecuteTime": {
     "end_time": "2020-10-02T17:37:58.329448Z",
     "start_time": "2020-10-02T17:37:48.488726Z"
    }
   },
   "outputs": [],
   "source": [
    "score_bootstrap_aggregation_predictions = []\n",
    "# Pour chaque profondeur possible...\n",
    "for depth in max_depths:\n",
    "    # On va maintenant prédire la moyenne des prédictions des arbres\n",
    "    # entraînés sur les échantillons bootstrap\n",
    "    tree_samples = [train_individual_tree(sample, depth) for sample in samples]\n",
    "    predictions_tree_samples = [tree.predict(x_test) for tree in tree_samples]\n",
    "    bootstrap_aggregation_predictions = sum(predictions_tree_samples) / n_samples\n",
    "    score_bootstrap_aggregation_predictions.append(\n",
    "        r2_score(y_test, bootstrap_aggregation_predictions))"
   ]
  },
  {
   "cell_type": "code",
   "execution_count": 43,
   "metadata": {
    "ExecuteTime": {
     "end_time": "2020-10-02T17:37:58.539917Z",
     "start_time": "2020-10-02T17:37:58.331457Z"
    }
   },
   "outputs": [
    {
     "data": {
      "text/plain": [
       "Text(0.5, 1.0, \"Évolution de l'erreur de l'aggrégation bootstrap en fonction de la profondeur\")"
      ]
     },
     "execution_count": 43,
     "metadata": {},
     "output_type": "execute_result"
    },
    {
     "data": {
      "image/png": "[encoded data removed]",
      "text/plain": [
       "<Figure size 432x288 with 1 Axes>"
      ]
     },
     "metadata": {
      "needs_background": "light"
     },
     "output_type": "display_data"
    }
   ],
   "source": [
    "plt.plot(max_depths, score_bootstrap_aggregation_predictions)\n",
    "plt.title(u\"Évolution de l'erreur de l'aggrégation bootstrap en fonction de la profondeur\")"
   ]
  },
  {
   "cell_type": "code",
   "execution_count": 44,
   "metadata": {
    "ExecuteTime": {
     "end_time": "2020-10-02T17:38:00.609658Z",
     "start_time": "2020-10-02T17:37:58.541772Z"
    }
   },
   "outputs": [
    {
     "data": {
      "text/plain": [
       "<matplotlib.axes._subplots.AxesSubplot at 0x1a1f2ea250>"
      ]
     },
     "execution_count": 44,
     "metadata": {},
     "output_type": "execute_result"
    },
    {
     "data": {
      "image/png": "[encoded data removed]",
      "text/plain": [
       "<Figure size 432x288 with 1 Axes>"
      ]
     },
     "metadata": {
      "needs_background": "light"
     },
     "output_type": "display_data"
    }
   ],
   "source": [
    "# Visualisons les prédictions pour des arbres de profondeur 10\n",
    "tree_samples = [train_individual_tree(sample, 10) for sample in samples]\n",
    "predictions_tree_samples = [tree.predict(x_test) for tree in tree_samples]\n",
    "bootstrap_aggregation_predictions = sum(predictions_tree_samples) / n_samples\n",
    "\n",
    "predictions_vs_realite_bootstrap_aggregation = pd.DataFrame({\"predictions sur ensemble de test\": bootstrap_aggregation_predictions,\n",
    "                                       \"valeurs ensemble de test\": y_test})\n",
    "predictions_vs_realite_bootstrap_aggregation.plot.scatter(x=\"predictions sur ensemble de test\", y=\"valeurs ensemble de test\")"
   ]
  },
  {
   "cell_type": "markdown",
   "metadata": {},
   "source": [
    "## Forêt d'arbres aléatoires"
   ]
  },
  {
   "cell_type": "markdown",
   "metadata": {},
   "source": [
    "![title](random_forest.png)"
   ]
  },
  {
   "cell_type": "code",
   "execution_count": 45,
   "metadata": {
    "ExecuteTime": {
     "end_time": "2020-10-02T17:38:00.614860Z",
     "start_time": "2020-10-02T17:38:00.611683Z"
    }
   },
   "outputs": [],
   "source": [
    "rf = RandomForestRegressor(max_depth=10, n_estimators=1000, n_jobs=-1)"
   ]
  },
  {
   "cell_type": "code",
   "execution_count": 46,
   "metadata": {
    "ExecuteTime": {
     "end_time": "2020-10-02T17:38:03.195795Z",
     "start_time": "2020-10-02T17:38:00.616860Z"
    }
   },
   "outputs": [
    {
     "data": {
      "text/plain": [
       "RandomForestRegressor(bootstrap=True, criterion='mse', max_depth=10,\n",
       "                      max_features='auto', max_leaf_nodes=None,\n",
       "                      min_impurity_decrease=0.0, min_impurity_split=None,\n",
       "                      min_samples_leaf=1, min_samples_split=2,\n",
       "                      min_weight_fraction_leaf=0.0, n_estimators=1000,\n",
       "                      n_jobs=-1, oob_score=False, random_state=None, verbose=0,\n",
       "                      warm_start=False)"
      ]
     },
     "execution_count": 46,
     "metadata": {},
     "output_type": "execute_result"
    }
   ],
   "source": [
    "rf.fit(x_train, y_train)"
   ]
  },
  {
   "cell_type": "code",
   "execution_count": 47,
   "metadata": {
    "ExecuteTime": {
     "end_time": "2020-10-02T17:38:03.416324Z",
     "start_time": "2020-10-02T17:38:03.198668Z"
    }
   },
   "outputs": [
    {
     "data": {
      "text/plain": [
       "0.8780675723485236"
      ]
     },
     "execution_count": 47,
     "metadata": {},
     "output_type": "execute_result"
    }
   ],
   "source": [
    "rf.score(x_test, y_test)"
   ]
  },
  {
   "cell_type": "markdown",
   "metadata": {},
   "source": [
    "# Boosting"
   ]
  },
  {
   "cell_type": "markdown",
   "metadata": {},
   "source": [
    "![title](boosting_trees.png)"
   ]
  },
  {
   "cell_type": "code",
   "execution_count": 48,
   "metadata": {
    "ExecuteTime": {
     "end_time": "2020-10-02T17:38:03.602001Z",
     "start_time": "2020-10-02T17:38:03.418959Z"
    }
   },
   "outputs": [
    {
     "data": {
      "text/plain": [
       "GradientBoostingRegressor(alpha=0.9, criterion='mse', init=None,\n",
       "                          learning_rate=0.1, loss='ls', max_depth=3,\n",
       "                          max_features=None, max_leaf_nodes=None,\n",
       "                          min_impurity_decrease=0.0, min_impurity_split=None,\n",
       "                          min_samples_leaf=1, min_samples_split=2,\n",
       "                          min_weight_fraction_leaf=0.0, n_estimators=100,\n",
       "                          n_iter_no_change=None, presort='auto',\n",
       "                          random_state=None, subsample=1.0, tol=0.0001,\n",
       "                          validation_fraction=0.1, verbose=0, warm_start=False)"
      ]
     },
     "execution_count": 48,
     "metadata": {},
     "output_type": "execute_result"
    }
   ],
   "source": [
    "gbm = GradientBoostingRegressor(n_estimators=100, criterion=\"mse\")\n",
    "gbm.fit(x_train, y_train)"
   ]
  },
  {
   "cell_type": "code",
   "execution_count": 49,
   "metadata": {
    "ExecuteTime": {
     "end_time": "2020-10-02T17:38:03.609728Z",
     "start_time": "2020-10-02T17:38:03.603520Z"
    }
   },
   "outputs": [
    {
     "data": {
      "text/plain": [
       "0.8943183128286272"
      ]
     },
     "execution_count": 49,
     "metadata": {},
     "output_type": "execute_result"
    }
   ],
   "source": [
    "gbm.score(x_test, y_test)"
   ]
  },
  {
   "cell_type": "code",
   "execution_count": 50,
   "metadata": {
    "ExecuteTime": {
     "end_time": "2020-10-02T17:38:03.799659Z",
     "start_time": "2020-10-02T17:38:03.611297Z"
    }
   },
   "outputs": [
    {
     "data": {
      "text/plain": [
       "<matplotlib.axes._subplots.AxesSubplot at 0x1a22222e50>"
      ]
     },
     "execution_count": 50,
     "metadata": {},
     "output_type": "execute_result"
    },
    {
     "data": {
      "image/png": "[encoded data removed]",
      "text/plain": [
       "<Figure size 432x288 with 1 Axes>"
      ]
     },
     "metadata": {
      "needs_background": "light"
     },
     "output_type": "display_data"
    }
   ],
   "source": [
    "predictions_vs_realite_gbm = pd.DataFrame({\"predictions sur ensemble de test\": gbm.predict(x_test),\n",
    "                                       \"valeurs ensemble de test\": y_test})\n",
    "predictions_vs_realite_gbm.plot.scatter(x=\"predictions sur ensemble de test\", y=\"valeurs ensemble de test\")"
   ]
  },
  {
   "cell_type": "markdown",
   "metadata": {},
   "source": [
    "# Feature engineering"
   ]
  },
  {
   "cell_type": "markdown",
   "metadata": {},
   "source": [
    "## Dummificaton"
   ]
  },
  {
   "cell_type": "markdown",
   "metadata": {},
   "source": [
    "TODO: Remplacer les colonnes contenant des variables catégorielles par des colonnes contenant des 0 et des 1, indicant si l'échangillon appartient ou non à la catégorie"
   ]
  },
  {
   "cell_type": "code",
   "execution_count": 51,
   "metadata": {
    "ExecuteTime": {
     "end_time": "2020-10-02T17:38:03.954971Z",
     "start_time": "2020-10-02T17:38:03.801311Z"
    }
   },
   "outputs": [
    {
     "data": {
      "text/html": [
       "<div>\n",
       "<style scoped>\n",
       "    .dataframe tbody tr th:only-of-type {\n",
       "        vertical-align: middle;\n",
       "    }\n",
       "\n",
       "    .dataframe tbody tr th {\n",
       "        vertical-align: top;\n",
       "    }\n",
       "\n",
       "    .dataframe thead th {\n",
       "        text-align: right;\n",
       "    }\n",
       "</style>\n",
       "<table border=\"1\" class=\"dataframe\">\n",
       "  <thead>\n",
       "    <tr style=\"text-align: right;\">\n",
       "      <th></th>\n",
       "      <th>Id</th>\n",
       "      <th>MSSubClass</th>\n",
       "      <th>LotFrontage</th>\n",
       "      <th>LotArea</th>\n",
       "      <th>OverallQual</th>\n",
       "      <th>OverallCond</th>\n",
       "      <th>YearBuilt</th>\n",
       "      <th>YearRemodAdd</th>\n",
       "      <th>MasVnrArea</th>\n",
       "      <th>BsmtFinSF1</th>\n",
       "      <th>...</th>\n",
       "      <th>SaleType_ConLw</th>\n",
       "      <th>SaleType_New</th>\n",
       "      <th>SaleType_Oth</th>\n",
       "      <th>SaleType_WD</th>\n",
       "      <th>SaleCondition_Abnorml</th>\n",
       "      <th>SaleCondition_AdjLand</th>\n",
       "      <th>SaleCondition_Alloca</th>\n",
       "      <th>SaleCondition_Family</th>\n",
       "      <th>SaleCondition_Normal</th>\n",
       "      <th>SaleCondition_Partial</th>\n",
       "    </tr>\n",
       "  </thead>\n",
       "  <tbody>\n",
       "    <tr>\n",
       "      <td>0</td>\n",
       "      <td>1</td>\n",
       "      <td>60</td>\n",
       "      <td>65.0</td>\n",
       "      <td>8450</td>\n",
       "      <td>7</td>\n",
       "      <td>5</td>\n",
       "      <td>2003</td>\n",
       "      <td>2003</td>\n",
       "      <td>196.0</td>\n",
       "      <td>706</td>\n",
       "      <td>...</td>\n",
       "      <td>0</td>\n",
       "      <td>0</td>\n",
       "      <td>0</td>\n",
       "      <td>1</td>\n",
       "      <td>0</td>\n",
       "      <td>0</td>\n",
       "      <td>0</td>\n",
       "      <td>0</td>\n",
       "      <td>1</td>\n",
       "      <td>0</td>\n",
       "    </tr>\n",
       "    <tr>\n",
       "      <td>1</td>\n",
       "      <td>2</td>\n",
       "      <td>20</td>\n",
       "      <td>80.0</td>\n",
       "      <td>9600</td>\n",
       "      <td>6</td>\n",
       "      <td>8</td>\n",
       "      <td>1976</td>\n",
       "      <td>1976</td>\n",
       "      <td>0.0</td>\n",
       "      <td>978</td>\n",
       "      <td>...</td>\n",
       "      <td>0</td>\n",
       "      <td>0</td>\n",
       "      <td>0</td>\n",
       "      <td>1</td>\n",
       "      <td>0</td>\n",
       "      <td>0</td>\n",
       "      <td>0</td>\n",
       "      <td>0</td>\n",
       "      <td>1</td>\n",
       "      <td>0</td>\n",
       "    </tr>\n",
       "    <tr>\n",
       "      <td>2</td>\n",
       "      <td>3</td>\n",
       "      <td>60</td>\n",
       "      <td>68.0</td>\n",
       "      <td>11250</td>\n",
       "      <td>7</td>\n",
       "      <td>5</td>\n",
       "      <td>2001</td>\n",
       "      <td>2002</td>\n",
       "      <td>162.0</td>\n",
       "      <td>486</td>\n",
       "      <td>...</td>\n",
       "      <td>0</td>\n",
       "      <td>0</td>\n",
       "      <td>0</td>\n",
       "      <td>1</td>\n",
       "      <td>0</td>\n",
       "      <td>0</td>\n",
       "      <td>0</td>\n",
       "      <td>0</td>\n",
       "      <td>1</td>\n",
       "      <td>0</td>\n",
       "    </tr>\n",
       "    <tr>\n",
       "      <td>3</td>\n",
       "      <td>4</td>\n",
       "      <td>70</td>\n",
       "      <td>60.0</td>\n",
       "      <td>9550</td>\n",
       "      <td>7</td>\n",
       "      <td>5</td>\n",
       "      <td>1915</td>\n",
       "      <td>1970</td>\n",
       "      <td>0.0</td>\n",
       "      <td>216</td>\n",
       "      <td>...</td>\n",
       "      <td>0</td>\n",
       "      <td>0</td>\n",
       "      <td>0</td>\n",
       "      <td>1</td>\n",
       "      <td>1</td>\n",
       "      <td>0</td>\n",
       "      <td>0</td>\n",
       "      <td>0</td>\n",
       "      <td>0</td>\n",
       "      <td>0</td>\n",
       "    </tr>\n",
       "    <tr>\n",
       "      <td>4</td>\n",
       "      <td>5</td>\n",
       "      <td>60</td>\n",
       "      <td>84.0</td>\n",
       "      <td>14260</td>\n",
       "      <td>8</td>\n",
       "      <td>5</td>\n",
       "      <td>2000</td>\n",
       "      <td>2000</td>\n",
       "      <td>350.0</td>\n",
       "      <td>655</td>\n",
       "      <td>...</td>\n",
       "      <td>0</td>\n",
       "      <td>0</td>\n",
       "      <td>0</td>\n",
       "      <td>1</td>\n",
       "      <td>0</td>\n",
       "      <td>0</td>\n",
       "      <td>0</td>\n",
       "      <td>0</td>\n",
       "      <td>1</td>\n",
       "      <td>0</td>\n",
       "    </tr>\n",
       "  </tbody>\n",
       "</table>\n",
       "<p>5 rows × 290 columns</p>\n",
       "</div>"
      ],
      "text/plain": [
       "   Id  MSSubClass  LotFrontage  LotArea  OverallQual  OverallCond  YearBuilt  \\\n",
       "0   1          60         65.0     8450            7            5       2003   \n",
       "1   2          20         80.0     9600            6            8       1976   \n",
       "2   3          60         68.0    11250            7            5       2001   \n",
       "3   4          70         60.0     9550            7            5       1915   \n",
       "4   5          60         84.0    14260            8            5       2000   \n",
       "\n",
       "   YearRemodAdd  MasVnrArea  BsmtFinSF1  ...  SaleType_ConLw  SaleType_New  \\\n",
       "0          2003       196.0         706  ...               0             0   \n",
       "1          1976         0.0         978  ...               0             0   \n",
       "2          2002       162.0         486  ...               0             0   \n",
       "3          1970         0.0         216  ...               0             0   \n",
       "4          2000       350.0         655  ...               0             0   \n",
       "\n",
       "   SaleType_Oth  SaleType_WD  SaleCondition_Abnorml  SaleCondition_AdjLand  \\\n",
       "0             0            1                      0                      0   \n",
       "1             0            1                      0                      0   \n",
       "2             0            1                      0                      0   \n",
       "3             0            1                      1                      0   \n",
       "4             0            1                      0                      0   \n",
       "\n",
       "   SaleCondition_Alloca  SaleCondition_Family  SaleCondition_Normal  \\\n",
       "0                     0                     0                     1   \n",
       "1                     0                     0                     1   \n",
       "2                     0                     0                     1   \n",
       "3                     0                     0                     0   \n",
       "4                     0                     0                     1   \n",
       "\n",
       "   SaleCondition_Partial  \n",
       "0                      0  \n",
       "1                      0  \n",
       "2                      0  \n",
       "3                      0  \n",
       "4                      0  \n",
       "\n",
       "[5 rows x 290 columns]"
      ]
     },
     "execution_count": 51,
     "metadata": {},
     "output_type": "execute_result"
    }
   ],
   "source": [
    "df_dummified = pd.get_dummies(df)\n",
    "df_dummified.head()"
   ]
  },
  {
   "cell_type": "markdown",
   "metadata": {},
   "source": [
    "### Vérifions l'impact"
   ]
  },
  {
   "cell_type": "code",
   "execution_count": 52,
   "metadata": {
    "ExecuteTime": {
     "end_time": "2020-10-02T17:38:03.969661Z",
     "start_time": "2020-10-02T17:38:03.956720Z"
    }
   },
   "outputs": [],
   "source": [
    "df_dummified_dropped_na = df_dummified.dropna()\n",
    "y_dummified_dropped_na = df_dummified_dropped_na[target]\n",
    "x_dummified_dropped_na = df_dummified_dropped_na.drop(target, axis=1)"
   ]
  },
  {
   "cell_type": "code",
   "execution_count": 53,
   "metadata": {
    "ExecuteTime": {
     "end_time": "2020-10-02T17:38:03.978845Z",
     "start_time": "2020-10-02T17:38:03.971371Z"
    }
   },
   "outputs": [],
   "source": [
    "x_train_dummified_dropped_na, x_test_dummified_dropped_na,\\\n",
    "y_train_dummified_dropped_na, y_test_dummified_dropped_na = \\\n",
    "            train_test_split(x_dummified_dropped_na, y_dummified_dropped_na, \n",
    "                             test_size=0.2, random_state=123)\n"
   ]
  },
  {
   "cell_type": "code",
   "execution_count": 54,
   "metadata": {
    "ExecuteTime": {
     "end_time": "2020-10-02T17:38:04.564059Z",
     "start_time": "2020-10-02T17:38:03.980585Z"
    }
   },
   "outputs": [
    {
     "data": {
      "text/plain": [
       "0.8013520518116177"
      ]
     },
     "execution_count": 54,
     "metadata": {},
     "output_type": "execute_result"
    }
   ],
   "source": [
    "gbm = GradientBoostingRegressor(n_estimators=100, criterion=\"mse\")\n",
    "gbm.fit(x_train_dummified_dropped_na, y_train_dummified_dropped_na)\n",
    "gbm.score(x_test_dummified_dropped_na, y_test_dummified_dropped_na)"
   ]
  },
  {
   "cell_type": "markdown",
   "metadata": {},
   "source": [
    "Explication: comme on vien de rajouter beaucoup de nouvelles variables explicatives"
   ]
  },
  {
   "cell_type": "markdown",
   "metadata": {},
   "source": [
    "## Imputation des valeurs manquantes"
   ]
  },
  {
   "cell_type": "markdown",
   "metadata": {},
   "source": [
    "TODO: récupérer les données de départ, et remplacer les valeurs manquantes par la moyenne ou la médianne des valeurs de la colonne"
   ]
  },
  {
   "cell_type": "code",
   "execution_count": 55,
   "metadata": {
    "ExecuteTime": {
     "end_time": "2020-10-02T17:38:04.570765Z",
     "start_time": "2020-10-02T17:38:04.565760Z"
    }
   },
   "outputs": [],
   "source": [
    "y_dummified = df_dummified[target]\n",
    "x_dummified = df_dummified.drop(target, axis=1)"
   ]
  },
  {
   "cell_type": "code",
   "execution_count": 56,
   "metadata": {
    "ExecuteTime": {
     "end_time": "2020-10-02T17:38:04.579759Z",
     "start_time": "2020-10-02T17:38:04.572526Z"
    }
   },
   "outputs": [],
   "source": [
    "x_train_dummified, x_test_dummified,\\\n",
    "y_train_dummified, y_test_dummified = train_test_split(x_dummified, y_dummified, test_size=0.2, \n",
    "                                                   random_state=123)\n"
   ]
  },
  {
   "cell_type": "code",
   "execution_count": 57,
   "metadata": {
    "ExecuteTime": {
     "end_time": "2020-10-02T17:38:04.598114Z",
     "start_time": "2020-10-02T17:38:04.581299Z"
    }
   },
   "outputs": [],
   "source": [
    "mean_imputer = SimpleImputer(strategy=\"mean\")\n",
    "x_train_no_na = mean_imputer.fit_transform(x_train_dummified)\n",
    "x_test_no_na = mean_imputer.transform(x_test_dummified)"
   ]
  },
  {
   "cell_type": "markdown",
   "metadata": {},
   "source": [
    "### Vérifions l'impact"
   ]
  },
  {
   "cell_type": "code",
   "execution_count": 58,
   "metadata": {
    "ExecuteTime": {
     "end_time": "2020-10-02T17:38:05.364141Z",
     "start_time": "2020-10-02T17:38:04.600120Z"
    }
   },
   "outputs": [
    {
     "data": {
      "text/plain": [
       "0.9065179108520358"
      ]
     },
     "execution_count": 58,
     "metadata": {},
     "output_type": "execute_result"
    }
   ],
   "source": [
    "gbm = GradientBoostingRegressor(n_estimators=100, criterion=\"mse\")\n",
    "gbm.fit(x_train_no_na, y_train_dummified)\n",
    "gbm.score(x_test_no_na, y_test_dummified)"
   ]
  },
  {
   "cell_type": "code",
   "execution_count": null,
   "metadata": {},
   "outputs": [],
   "source": []
  }
 ],
 "metadata": {
  "hide_input": false,
  "kernelspec": {
   "display_name": "Python 3",
   "language": "python",
   "name": "python3"
  },
  "language_info": {
   "codemirror_mode": {
    "name": "ipython",
    "version": 3
   },
   "file_extension": ".py",
   "mimetype": "text/x-python",
   "name": "python",
   "nbconvert_exporter": "python",
   "pygments_lexer": "ipython3",
   "version": "3.7.4"
  },
  "toc": {
   "base_numbering": 1,
   "nav_menu": {},
   "number_sections": true,
   "sideBar": true,
   "skip_h1_title": false,
   "title_cell": "Table of Contents",
   "title_sidebar": "Contents",
   "toc_cell": false,
   "toc_position": {},
   "toc_section_display": true,
   "toc_window_display": false
  },
  "varInspector": {
   "cols": {
    "lenName": 16,
    "lenType": 16,
    "lenVar": 40
   },
   "kernels_config": {
    "python": {
     "delete_cmd_postfix": "",
     "delete_cmd_prefix": "del ",
     "library": "var_list.py",
     "varRefreshCmd": "print(var_dic_list())"
    },
    "r": {
     "delete_cmd_postfix": ") ",
     "delete_cmd_prefix": "rm(",
     "library": "var_list.r",
     "varRefreshCmd": "cat(var_dic_list()) "
    }
   },
   "types_to_exclude": [
    "module",
    "function",
    "builtin_function_or_method",
    "instance",
    "_Feature"
   ],
   "window_display": false
  }
 },
 "nbformat": 4,
 "nbformat_minor": 4
}
